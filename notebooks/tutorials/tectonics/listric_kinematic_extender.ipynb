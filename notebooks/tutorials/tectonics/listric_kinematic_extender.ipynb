{
 "cells": [
  {
   "cell_type": "markdown",
   "metadata": {},
   "source": [
    "<a href=\"http://landlab.github.io\"><img style=\"float: left\" src=\"../../landlab_header.png\"></a>"
   ]
  },
  {
   "cell_type": "markdown",
   "metadata": {},
   "source": [
    "# Using the Landlab ListricKinematicExtender component\n",
    "\n",
    "*(Greg Tucker, University of Colorado Boulder, March 2021; revised June 2023 to use AdvectionSolverTVD instead of stepwise extension algorithm)*\n",
    "\n",
    "<hr>\n",
    "<small>For more Landlab tutorials, click here: <a href=\"https://landlab.readthedocs.io/en/latest/user_guide/tutorials.html\">https://landlab.readthedocs.io/en/latest/user_guide/tutorials.html</a></small>\n",
    "<hr>\n",
    "\n",
    "This tutorial demonstrates how to use the `ListricKinematicExtender` component. `ListricKinematicExtender` models the vertical subsidence and lateral tectonic motion associated with a listric detachment fault. A listric fault is one that shallows with depth, such that the fault plane has a concave-upward profile. The word \"kinematic\" indicates that this component does not calculate the mechanics of stress and strain involved in an extensional fault; it simply aims to mimic them geometrically. The basic concept is to solve the advection equation for a hangingwall block of thickness $H(x,y,t)$ moving at velocity $u(x,y,t)$ relative to an underlying footwall block, to is fixed relative to the grid. "
   ]
  },
  {
   "cell_type": "markdown",
   "metadata": {},
   "source": [
    "## Theory\n",
    "\n",
    "### Describing a listric fault plane\n",
    "\n",
    "Consider a fault plane with dip angle $\\alpha$ relative to the horizontal. The fault plane has a listric shape, in which the dip angle at the surface is $\\alpha_0$, and it becomes increasingly shallow with depth, ultimately asymptoting to horizontal at depth $h$ (we'll refer to $h$ as the detachment depth). We can express the dip angle in terms of gradient $G = \\tan\\alpha$, and $G_0 = \\tan\\alpha_0$. Let the gradient decay exponentially with distance from its zero-surface trace, $x_f$, starting from the surface value $G_0$:\n",
    "\n",
    "$$G(x) = G_0 e^{-x_f/\\lambda}$$\n",
    "\n",
    "where $\\lambda$ is a length scale that we'll define in a moment. \"Zero-surface trace\" here means the line of intersection of the fault plane with the horizontal plane at zero elevation (the actual surface trace would depend on the elevation field). Because $G$ is the rate of change of fault plane elevation, $z_f$, with distance $x$, we can write:\n",
    "\n",
    "$$\\frac{dz_f}{dx_f} = -G_0 e^{-x_f/\\lambda}\\hskip1em\\mbox{(1)}$$\n",
    "\n",
    "Integrating,\n",
    "\n",
    "$$z_f(x) = G_0\\lambda e^{-x_f/\\lambda} + C$$\n",
    "\n",
    "We can evaluate the constant of integration by noting that $z_f = 0$ at $x_f = 0$ (in other words, by definition the fault plane elevation is zero at the line where it intersects the zero-elevation horizontal plane), so\n",
    "\n",
    "$$C = -G_0\\lambda$$\n",
    "\n",
    "Plugging this back in,\n",
    "\n",
    "$$z_f(x_f) = -G_0\\lambda (1 - e^{-x_f/\\lambda})$$\n",
    "\n",
    "Note that the fault elevation asymptotes to a detachment depth $h = G_0\\lambda$. This gives us a physical basis for $\\lambda$, and means we can express our fault plane geometry by $h$ instead of $\\lambda$:\n",
    "\n",
    "$$\\boxed{z_f(x_f) = -h \\left(1 - e^{-x_f G_0 / h}\\right)}$$\n",
    "\n",
    "Let's plot it:"
   ]
  },
  {
   "cell_type": "code",
   "execution_count": null,
   "metadata": {},
   "outputs": [],
   "source": [
    "import matplotlib.pyplot as plt\n",
    "import numpy as np\n",
    "\n",
    "alpha0 = 60.0  # fault dip at surface, degrees\n",
    "h = 10.0  # detachment depth, km\n",
    "\n",
    "G0 = np.tan(np.deg2rad(alpha0))\n",
    "x = np.arange(0, 41.0)\n",
    "z = -h * (1.0 - np.exp(-x * G0 / h))\n",
    "\n",
    "plt.plot(x, z, \"k\")\n",
    "plt.xlabel(\"Distance (km)\")\n",
    "plt.ylabel(\"Fault plane elevation (km)\")"
   ]
  },
  {
   "cell_type": "markdown",
   "metadata": {},
   "source": [
    "### Rate of change of hangingwall thickness\n",
    "\n",
    "Imagine that the hangingwall \"block\" is moving at velocity $\\mathbf{u} = (u_x, u_y)$ relative to our coordinate system. This motion can be described by an advection (wave) equation,\n",
    "\n",
    "$$\\frac{\\partial H}{\\partial t} = -\\left( u_x \\frac{\\partial H}{\\partial x} + u_y \\frac{\\partial H}{\\partial y}\\right)$$\n",
    "\n",
    "The topographic surface is the sum of the height of the footwall block, $z_{fw}$, and the thickness of the hangingwall $H$ (which might be zero), so the evolution equation for topographic elevation is\n",
    "\n",
    "$$\\frac{\\partial z}{\\partial t} = \\frac{\\partial z_{fw}}{\\partial t} + \\frac{\\partial H}{\\partial t}$$\n",
    "\n",
    "or\n",
    "\n",
    "$$\\frac{\\partial z}{\\partial t} = \\frac{\\partial z_{fw}}{\\partial t} -\\left( u_x \\frac{\\partial H}{\\partial x} + u_y \\frac{\\partial H}{\\partial y}\\right)$$\n",
    "\n",
    "In principle, the height of the footwall surface could change through several mechanisms: isostatic uplift or subsidence, dynamic topography effects, and where the hangingwall is absent, erosion and sedimentation. From the point of view of the listrict kinematic extender component, these are considered external processes that are to be handled elsewhere.\n",
    "\n",
    "The fault plane comes into the picture as an initial condition. The height of the footwall block starts out as the lesser of the fault plane or the initial topographic surface:\n",
    "\n",
    "$$z_{fw}(x,y,0) = \\min \\left(z_f, z(x,y,0)\\right)$$\n",
    "\n",
    "For example, suppose $z(x,y,0) = 0$. Then\n",
    "\n",
    "$$z_{fw} = \\min \\left[ -h \\left(1 - e^{-x_f G_0 / h}\\right), 0 \\right]$$"
   ]
  },
  {
   "cell_type": "markdown",
   "metadata": {},
   "source": [
    "## Implementation\n",
    "\n",
    "The implementation in `ListricKinemticExtender` initializes fields for $z_f$ (`fault_plane__elevation`), $H$ (`hangingwall__thickness`), and  $\\mathbf{u}$ (`advection__velocity`). The component then uses the `AdvectionSolverTVD` component to compute lateral motion and resulting changes in $H$.\n",
    "\n",
    "### Initialization\n",
    "\n",
    "#### Zero-surface fault trace\n",
    "\n",
    "It's useful to represent the zero-surface fault trace as a parametric line. If the strike angle is $\\alpha$ and the parameter is $t$, the equations are:\n",
    "\n",
    "$$x_{ft} = x_0 + t \\cos \\alpha$$\n",
    "\n",
    "$$y_{ft} = y_0 + t \\sin \\alpha$$\n",
    "\n",
    "This is handy because it represents the trace in terms of an intercept point $(x_0, y_0)$ and a strike angle $\\alpha$.\n",
    "\n",
    "The closest distance of a point $(P_x, P_y)$ to the line is\n",
    "\n",
    "$$d(P_x, P_y) = \\sin\\alpha (P_x-x_0) - \\cos\\alpha (P_y-y_0)$$\n",
    "\n",
    "The below code uses a Landlab `RasterModelGrid` to illustrate this with three cases:\n",
    "\n",
    "- Horizontal line: $x_0 = 0, y_0 = 0.5, \\alpha = 0^\\circ$\n",
    "- Vertical line: $x_0 = 0.5, y_0 = 0, \\alpha = 90^\\circ$\n",
    "- Diagonal line: $x_0 = y_0 = 0, \\alpha = 45^\\circ$"
   ]
  },
  {
   "cell_type": "code",
   "execution_count": null,
   "metadata": {},
   "outputs": [],
   "source": [
    "def dist_to_line(Px, Py, x0, y0, alpha):\n",
    "    alpha_r = np.radians(alpha)\n",
    "    return np.sin(alpha_r) * (Px - x0) - np.cos(alpha_r) * (Py - y0)"
   ]
  },
  {
   "cell_type": "code",
   "execution_count": null,
   "metadata": {},
   "outputs": [],
   "source": [
    "from landlab import RasterModelGrid, imshow_grid\n",
    "\n",
    "grid = RasterModelGrid((101, 101), xy_spacing=0.01)"
   ]
  },
  {
   "cell_type": "code",
   "execution_count": null,
   "metadata": {},
   "outputs": [],
   "source": [
    "d2l = dist_to_line(grid.x_of_node, grid.y_of_node, 0, 0.5, 0)\n",
    "imshow_grid(grid, d2l)"
   ]
  },
  {
   "cell_type": "code",
   "execution_count": null,
   "metadata": {},
   "outputs": [],
   "source": [
    "d2l = dist_to_line(grid.x_of_node, grid.y_of_node, 0.5, 0, 90)\n",
    "imshow_grid(grid, d2l)"
   ]
  },
  {
   "cell_type": "code",
   "execution_count": null,
   "metadata": {},
   "outputs": [],
   "source": [
    "d2l = dist_to_line(grid.x_of_node, grid.y_of_node, 0, 0, 45)\n",
    "imshow_grid(grid, d2l)"
   ]
  },
  {
   "cell_type": "markdown",
   "metadata": {},
   "source": [
    "#### Fault-plane surface and hangingwall thickness\n",
    "\n",
    "Once we have distance-to-fault-trace, we can use that to calculate the fault plane elevation at each grid node, and from that, the thickness of the hangingwall. Here's a very simple example case:\n",
    "\n",
    "- 3x3 raster grid with a node spacing of 1,000 m\n",
    "- elevation is zero everywhere\n",
    "- surface fault dip is 60 degrees\n",
    "- detachment depth is 10 km\n",
    "- fault is oriented north-south, intercepting (0, 0)\n",
    "\n",
    "In this case, the center node (which is also the only core node) is located at $x=1,000$ m, $y=1,000 m$ relative to the origin. That puts it 1,000 m from the zero-elevation fault trace. Thus, the elevation of the footwall should be:\n",
    "\n",
    "$$z_{fw} = \\min \\left[ -(10,000) \\left(1 - e^{-(1,000) (\\tan 60) / (10,000)}\\right), 0 \\right]$$\n",
    "\n",
    "The hangingwall thickness is:\n",
    "\n",
    "$$H = z_0 - z_{fw}$$\n",
    "\n",
    "Here's the calculation:"
   ]
  },
  {
   "cell_type": "code",
   "execution_count": null,
   "metadata": {},
   "outputs": [],
   "source": [
    "def calc_fw_and_hw(xf, h, G0, z0):\n",
    "    zfw = np.minimum(-h * (1.0 - np.exp(-xf * np.tan(np.radians(G0)) / h)), z0)\n",
    "    H = z0 - zfw\n",
    "    return zfw, H\n",
    "\n",
    "zfw, H = calc_fw_and_hw(1000.0, 10000.0, 60.0, 0.0)\n",
    "print(\"Footwall elevation =\", zfw)\n",
    "print(\"Hangingwall thickness =\", H)"
   ]
  },
  {
   "cell_type": "markdown",
   "metadata": {},
   "source": [
    "Here's what the fault plane and hangingwall thickness look like in an example calculated using the default values in `ListricKinematicExtender`:"
   ]
  },
  {
   "cell_type": "code",
   "execution_count": null,
   "metadata": {},
   "outputs": [],
   "source": [
    "from landlab import RasterModelGrid, imshow_grid\n",
    "from landlab.components import ListricKinematicExtender\n",
    "\n",
    "grid = RasterModelGrid((51, 51), xy_spacing=1000.0)\n",
    "elev = grid.add_zeros(\"topographic__elevation\", at=\"node\")\n",
    "extender = ListricKinematicExtender(grid)\n",
    "\n",
    "imshow_grid(grid, grid.at_node[\"fault_plane__elevation\"])\n",
    "plt.figure()\n",
    "imshow_grid(grid, grid.at_node[\"hangingwall__thickness\"])"
   ]
  },
  {
   "cell_type": "markdown",
   "metadata": {},
   "source": [
    "(GOT HERE IN REVISING)"
   ]
  },
  {
   "cell_type": "markdown",
   "metadata": {},
   "source": [
    "### Describing subsidence due to fault motion\n",
    "\n",
    "From here, we can think about the subsidence rate of the hangingwall as a function of horizontal extension velocity, $u$. We can think of the hangingwall as an enormous, floppy sled that glides down the slope of the fault plane. Consider a point on the hangingwall. In the reference frame of the footwall, the thickness of the underlying hangingwall block shrinks over time as the hangingwall moves to the \"right\". If the fault plane is fixed, then the vertical rate of change of surface elevation, $v$, in a reference frame fixed to the footwall, is equal to the rate of change of local hangingwall thickness. The time rate of change of hangingwall thickness, $H_h$, is the product of the *spatial* gradient in thickness times the extension rate, $u$,\n",
    "\n",
    "$$v = \\frac{dH_h}{dt} = -u \\frac{dH_h}{dx}$$\n",
    "\n",
    "If the footwall is rigid (which we'll assume for now), the time rate of change of surface elevation due to hangingwall motion---again, in the reference frame of the footwall---equals the rate of change of hangingwall thickness.\n",
    "\n",
    "The hangingwall thickness equals its surface elevation, $\\eta(x,t)$, minus the fault-plane elevation, $z(x)$:\n",
    "\n",
    "$$H_h(x,t) = \\eta(x,t) - (z_0 - h (1 - e^{-x G_0 / h}))$$\n",
    "\n",
    "where again $x$ is the initial location of the fault's surface trace. Suppose that there were no erosion or sedimentation. We can rewrite the above as\n",
    "\n",
    "$$H_h(x,t) = \\eta(x-ut, 0) - (z_0 - h (1 - e^{-(x-ut) G_0 / h}))$$\n",
    "\n",
    "As an illustration, suppose the topographic surface is initially level and equal to zero. In that case,\n",
    "\n",
    "$$H_h(x,t) = h (1 - e^{-(x-ut) G_0 / h}))$$\n",
    "\n",
    "The corresponding height of the topographic surface at a given position and time is\n",
    "\n",
    "$$\\boxed{\\eta(x,t) = z(x) + H_h(x,t) =  h e^{-x G_0 / h} - h e^{-(x-ut) G_0 / h}}$$\n",
    "\n",
    "Our implementation trick will be to apply this subsidence to grid cells in an Eulerian frame, but also capture the horizontal component of motion by  shifting hangingwall grid cells every time the cumulative horizontal displacement equals or exceeds one grid cell width.\n",
    "\n",
    "The block of code below shows an example of an initially level topographic surface that has accumulated subsidence over time according to the above equation. Note how the subsidence profile reflects the \"rightward\" motion of the hangingwall relative to the (fixed) footwall."
   ]
  },
  {
   "cell_type": "code",
   "execution_count": null,
   "metadata": {},
   "outputs": [],
   "source": [
    "dt = 100000.0  # time span, y\n",
    "xf = 10000.0  # initial location of surface trace of fault, m\n",
    "u = 0.01  # extension rate, m/y\n",
    "h = 10000.0  # detachment depth, m\n",
    "nprofiles = 5\n",
    "\n",
    "x = np.arange(0.0, 40100.0, 100.0)\n",
    "dist_from_fault = np.maximum(x - xf, 0.0)\n",
    "z = z0 - h * (1.0 - np.exp(-dist_from_fault * G0 / h))\n",
    "\n",
    "plt.plot(x, z, \"r\", label=\"Fault plane\")\n",
    "\n",
    "for i in range(nprofiles):\n",
    "    t = i * dt\n",
    "    shifted_dist_from_fault = np.maximum(dist_from_fault - u * t, 0.0)\n",
    "\n",
    "    # WAIT\n",
    "    # Calculate the surface topography\n",
    "    eta = h * (\n",
    "        np.exp(-dist_from_fault * G0 / h) - np.exp(-shifted_dist_from_fault * G0 / h)\n",
    "    )\n",
    "\n",
    "    # Calculate thickness\n",
    "    # thickness = h * (1.0 - np.exp(-shifted_dist_from_fault * G0 / h))\n",
    "\n",
    "    # eta won't be less than the fault-plane elevation\n",
    "    eta[eta < z] = z[eta < z]\n",
    "\n",
    "    plt.plot(x, eta, \"k\", label=\"Surface elevation \" + str(i))\n",
    "    # plt.plot(x, thickness, 'b', label='Thickness' + str(i))\n",
    "\n",
    "plt.xlabel(\"Distance (km)\")\n",
    "plt.ylabel(\"Elevation (km)\")\n",
    "plt.legend()"
   ]
  },
  {
   "cell_type": "markdown",
   "metadata": {},
   "source": [
    "## Numerical implementation\n",
    "\n",
    "The numerical approach is to divide the problem into two parts: subsidence that results from the descent of the hangingwall as it moves along the fault plane, and lateral translation of topography. The mathematical basis for this starts with expressing the hangingwall thickness, $H_f$, in terms of surface topography, $\\eta$ and fault plane elevation, $z$:\n",
    "\n",
    "$$H_f = \\eta - z$$\n",
    "\n",
    "We can therefore decompose the local rate of hangingwall subsidence (in the footwall frame of reference) into two components:\n",
    "\n",
    "$$v = -u \\left( \\frac{d\\eta}{dx} - \\frac{dz}{dx}\\right)$$\n",
    "\n",
    "The second term represents subsidence of hangingwall rock that occurs because of downward motion along the fault plane. Substituting equation (1), this component is:\n",
    "\n",
    "$$v_s = -u G_0 \\exp(-x G_0 / h)$$\n",
    "\n",
    "where $x$ is defined as distance from the original position of the surface fault trace. However, it only applies where the hangingwall is still present, and not to those locations where the hangingwall has slipped off to reveal the fault plane at the surface. Therefore, we will track the $x$ coordinate of the \"left\" edge of the hangingwall, and only apply this component of subsidence to those locations. The subsidence rate component $v_s$ is applied continuously to the topography, i.e., at every time step.\n",
    "\n",
    "The second component, represented by $-u d\\eta / dx$, represents the local subsidence that occurs because the topography is translating lateral with respect to the footwall. This component we do *not* want to apply continuously, because it would result in artificial diffusion of the topography. Instead, the algorithm periodically shifts the topography in the entire hangingwall portion of the grid by one cell to the \"right\". To accomplish this, the algorithm keeps track of cumulative lateral motion since the last shift, executing a new shift whenever that value exceeds one grid-cell width, and decrementing the cumulative lateral motion by one cell width. This method preserves the hangingwall topography (and any other associated fields), at the expense of introducing episodic lateral tectonic motion. However, because of the direct translation, the *relative* change in topography between adjacent cells is minimized.\n",
    "\n",
    "### Fields\n",
    "\n",
    "The `ListricKinematicExtender` requires `topographic__elevation` as a field; it applies subsidence to this field. It creates one output field: `subsidence_rate` records the latest subsidence rate at grid nodes.\n",
    "\n",
    "There are also two optional fields that are used only if the user selects the `track_thickness` option, which is designed to support combining this component with lithosphere flexure by also tracking changes in crustal thickness that result from extension. `upper_crust_thickness` is an input-and-output field that contains the current thickness of the upper crust (however defined), and the `cumulative_subsidence_depth` field records the accumulated subsidence since the most recent horizontal shift (see below).\n",
    "\n",
    "### Vertical subsidence\n",
    "\n",
    "The `run_one_step()` method calculates the subsidence rate field at nodes using the exponential function above, then multiplies this by the given time-step duration `dt` and subtracts this value from the node elevations.\n",
    "\n",
    "Alternatively, a user may wish to calculate the subsidence rates without having the compent actually apply them to the elevation field. To accomplish this, the component provides a public function `update_subsidence_rate`. This function updates the subsidence rate field without changing elevations.\n",
    "\n",
    "### Horizontal motion\n",
    "\n",
    "To represent horizontal motion of the hangingwall relative to the footwall (which is the fixed datum), the component keeps track of cumulative horizontal motion, updating it each time `run_one_step` is called. When the cumulative motion equals or exceeds one grid-cell width, the component shifts the elevation values in the hangingwall portion of the domain to the \"right\", representing offset of one cell width. The cumulative horizontal offset is then decremented by one grid cell. The position of the \"left\" edge of the hangingwall is also increased by one cell width (its initial position is the user-specified fault position). This means that the boundary between the footwall and hangingwall also migrates to the \"right\" at the specified extension rate, and that the area of active subsidence gradually shrinks over time. However, the subsidence rate profile is still calculated using fault position. Mathematically, this can be expressed as:\n",
    "\n",
    "$$v(x, t) = \\begin{cases}\n",
    "  -v G_0 \\exp ( -(x - x_f) G_0 / h ) & \\mbox{if } x > x_h(t) \\\\\n",
    "  0 & \\mbox{otherwise}\n",
    "\\end{cases}$$\n",
    "\n",
    "$$x_h(t) = x_f + u t$$\n",
    "\n",
    "where $x_f$ is the initial $x$ position of the surface fault trace, and $x_h$ represents the \"left\" edge of the hangingwall.\n",
    "\n",
    "In addition to \"shifting\" elevation values, the user may pass a list of node field names in the `fields_to_shift` parameter, and these will also be shifted.\n",
    "\n",
    "### Integrating with flexure\n",
    "\n",
    "By itself, `ListricKinematicExtender` does not include rift-shoulder uplift, which in nature (at least in the author's understanding) occurs as a result of flexural isostatic uplift in response to extensional thinning of the crust, and also possibly as a result of thermal isostatic uplift in the underlying mantle. To handle the first of these, `ListricKinematicExtender` is designed to work together with a flexural isostasy component. The basic idea is to calculate explicitly the thinning of the crustal column that results from extension, so that this reduction in crustal thickness can be used by an isostasy component such as `Flexure`.\n",
    "\n",
    "The basic concept behind `ListricKinematicExtender` is that thinning occurs when the hangingwall block is dragged away from the footwall, in effect sliding down the fault plane, as illustrated in the plot of topography and fault plane above. In order to combine with a flexural isostasy component, we need to keep track of the progressive reduction in crustal thickness. This tracking is activated when the `track_crustal_thickness` option is set to `True` (the default is `False`). The user must provide an `upper_crust_thickness` node field. As noted above, the algorithm separates the vertical and horizontal components of motion, with horizontal motion only explicitly implemented when the cumulative displacement equals or exceeds a full grid-cell width. In keeping with this approach, the thickness field is only modified when a cell-shift occurs. But that approach could cause a problem if one wishes to incorporate flexural isostasy: a natural approach to flexural isostasy is to keep track of an evolving crustal thickness field (which thins under erosion and thickens under deposition), and calculate surface topography as the sum of a crustal datum, flexural offset, and crustal thickness above the datum. To enable this approach, we somehow need to keep track of the extensional subsidence that occurs *between* horizontal offsets. To do this, the `ListricKinematicExtender` keeps track of cumulative subsidence since the last horizontal shift. This quantity is tracked by the optional output field `cumulative_subsidence_depth` (the field is created only if the user sets `track_crustal_thickness` to `True`). One can then calculate elevation at any time step by summing a crustal datum elevation, the thickness of crust above this datum, the isostatic deflection, and the cumulative extensional subsidence. Whenever a shift occurs, the thickness field is included in the shift: those crustal columns to the \"right\" of the hangingwall edge are shifted by one cell, along with the topography. The cumulative subsidence since the last shift is then subtracted from the thickness field to record the accumulated thinning associated with that shift. This method effectively captures the thinning of crust along a listric fault plane without needing to explicitly track the fault plane or of separate hangingwall and footwall columns."
   ]
  },
  {
   "cell_type": "markdown",
   "metadata": {},
   "source": [
    "## Examples\n",
    "\n",
    "### Example 1: Quasi-1D\n",
    "\n",
    "The first example uses a quasi-1D setup to represent an initially level topography on which subsidence progressively accumulates. "
   ]
  },
  {
   "cell_type": "code",
   "execution_count": null,
   "metadata": {},
   "outputs": [],
   "source": [
    "import matplotlib.pyplot as plt\n",
    "import numpy as np\n",
    "\n",
    "from landlab import RasterModelGrid, imshow_grid\n",
    "from landlab.components import ListricKinematicExtender"
   ]
  },
  {
   "cell_type": "code",
   "execution_count": null,
   "metadata": {},
   "outputs": [],
   "source": [
    "# parameters\n",
    "nrows = 3\n",
    "ncols = 51\n",
    "dx = 1000.0  # grid spacing, m\n",
    "nsteps = 20  # number of iterations\n",
    "dt = 2.5e5  # time step, y\n",
    "extension_rate = 0.001  # m/y\n",
    "detachment_depth = 10000.0  # m\n",
    "fault_dip = 60.0  # fault dip angle, degrees\n",
    "fault_loc = 10000.0  # m from left side of model"
   ]
  },
  {
   "cell_type": "code",
   "execution_count": null,
   "metadata": {},
   "outputs": [],
   "source": [
    "# Create grid and elevation field\n",
    "grid = RasterModelGrid((nrows, ncols), xy_spacing=dx)\n",
    "elev = grid.add_zeros(\"topographic__elevation\", at=\"node\")\n",
    "\n",
    "# Instantiate component\n",
    "extender = ListricKinematicExtender(\n",
    "    grid,\n",
    "    extension_rate=extension_rate,\n",
    "    fault_dip=fault_dip,\n",
    "    fault_location=fault_loc,\n",
    "    detachment_depth=detachment_depth,\n",
    ")"
   ]
  },
  {
   "cell_type": "code",
   "execution_count": null,
   "metadata": {},
   "outputs": [],
   "source": [
    "# Plot the starting elevations, in cross-section (middle row)\n",
    "midrow = np.arange(ncols, 2 * ncols, dtype=int)\n",
    "plt.plot(grid.x_of_node[midrow] / 1000.0, elev[midrow], \"k\")\n",
    "plt.xlabel(\"Distance (km)\")\n",
    "plt.ylabel(\"Elevation (m)\")\n",
    "plt.xlim([10.0, 40.0])\n",
    "\n",
    "# Add a plot of the fault plane\n",
    "dist_from_fault = grid.x_of_node - fault_loc\n",
    "dist_from_fault[dist_from_fault < 0.0] = 0.0\n",
    "x0 = detachment_depth / np.tan(np.deg2rad(fault_dip))\n",
    "fault_plane = -(detachment_depth * (1.0 - np.exp(-dist_from_fault / x0)))\n",
    "plt.plot(grid.x_of_node[midrow] / 1000.0, fault_plane[midrow], \"r\")\n",
    "\n",
    "for i in range(nsteps):\n",
    "    extender.run_one_step(dt)\n",
    "    plt.plot(grid.x_of_node[midrow] / 1000.0, elev[midrow], \"k\")\n",
    "\n",
    "# Add the analytic solution\n",
    "total_time = nsteps * dt\n",
    "G0 = np.tan(np.deg2rad(fault_dip))\n",
    "shifted_dist_from_fault = np.maximum(dist_from_fault - extension_rate * total_time, 0.0)\n",
    "elev_pred = detachment_depth * (\n",
    "    np.exp(-dist_from_fault * G0 / h) - np.exp(-(shifted_dist_from_fault * G0 / h))\n",
    ")\n",
    "elev_pred = np.maximum(elev_pred, fault_plane)\n",
    "plt.plot(grid.x_of_node[midrow] / 1000.0, elev_pred[midrow], \"b:\")"
   ]
  },
  {
   "cell_type": "markdown",
   "metadata": {},
   "source": [
    "### Example 2: quasi-1D with topography"
   ]
  },
  {
   "cell_type": "code",
   "execution_count": null,
   "metadata": {},
   "outputs": [],
   "source": [
    "period = 15000.0  # period of sinusoidal variations in initial topography, m\n",
    "ampl = 500.0  # amplitude of variations, m\n",
    "\n",
    "# Create grid and elevation field\n",
    "grid = RasterModelGrid((nrows, ncols), xy_spacing=dx)\n",
    "elev = grid.add_zeros(\"topographic__elevation\", at=\"node\")\n",
    "elev[:] = ampl * np.sin(2 * np.pi * grid.x_of_node / period)\n",
    "\n",
    "# Instantiate component\n",
    "extender = ListricKinematicExtender(\n",
    "    grid,\n",
    "    extension_rate=extension_rate,\n",
    "    fault_dip=fault_dip,\n",
    "    fault_location=fault_loc,\n",
    "    detachment_depth=detachment_depth,\n",
    ")"
   ]
  },
  {
   "cell_type": "code",
   "execution_count": null,
   "metadata": {},
   "outputs": [],
   "source": [
    "# Plot the starting elevations, in cross-section (middle row)\n",
    "midrow = np.arange(ncols, 2 * ncols, dtype=int)\n",
    "plt.plot(grid.x_of_node[midrow] / 1000.0, elev[midrow], \"k\")\n",
    "plt.xlabel(\"Distance (km)\")\n",
    "plt.ylabel(\"Elevation (m)\")\n",
    "plt.grid(True)\n",
    "\n",
    "# Add a plot of the fault plane\n",
    "dist_from_fault = grid.x_of_node - fault_loc\n",
    "dist_from_fault[dist_from_fault < 0.0] = 0.0\n",
    "x0 = detachment_depth / np.tan(np.deg2rad(fault_dip))\n",
    "fault_plane = -(detachment_depth * (1.0 - np.exp(-dist_from_fault / x0)))\n",
    "plt.plot(grid.x_of_node[midrow] / 1000.0, fault_plane[midrow], \"r\")\n",
    "\n",
    "for i in range(nsteps):\n",
    "    extender.run_one_step(dt)\n",
    "    c = 1.0 - i / nsteps\n",
    "    plt.plot(grid.x_of_node[midrow] / 1000.0, elev[midrow], color=[c, c, c])"
   ]
  },
  {
   "cell_type": "markdown",
   "metadata": {},
   "source": [
    "### Example 3: extending to 2D"
   ]
  },
  {
   "cell_type": "code",
   "execution_count": null,
   "metadata": {},
   "outputs": [],
   "source": [
    "# parameters\n",
    "nrows = 31\n",
    "ncols = 51\n",
    "dx = 1000.0  # grid spacing, m\n",
    "nsteps = 20  # number of iterations\n",
    "dt = 2.5e5  # time step, y\n",
    "extension_rate = 0.001  # m/y\n",
    "detachment_depth = 10000.0  # m\n",
    "fault_dip = 60.0  # fault dip angle, degrees\n",
    "fault_loc = 10000.0  # m from left side of model\n",
    "period = 15000.0  # period of sinusoidal variations in initial topography, m\n",
    "ampl = 500.0  # amplitude of variations, m"
   ]
  },
  {
   "cell_type": "code",
   "execution_count": null,
   "metadata": {},
   "outputs": [],
   "source": [
    "# Create grid and elevation field\n",
    "grid = RasterModelGrid((nrows, ncols), xy_spacing=dx)\n",
    "elev = grid.add_zeros(\"topographic__elevation\", at=\"node\")\n",
    "elev[:] = (\n",
    "    ampl\n",
    "    * np.sin(2 * np.pi * grid.x_of_node / period)\n",
    "    * np.sin(2 * np.pi * grid.y_of_node / period)\n",
    ")\n",
    "\n",
    "# Instantiate component\n",
    "extender = ListricKinematicExtender(\n",
    "    grid,\n",
    "    extension_rate=extension_rate,\n",
    "    fault_dip=fault_dip,\n",
    "    fault_location=fault_loc,\n",
    "    detachment_depth=detachment_depth,\n",
    ")"
   ]
  },
  {
   "cell_type": "code",
   "execution_count": null,
   "metadata": {},
   "outputs": [],
   "source": [
    "# Plot the starting topography\n",
    "imshow_grid(grid, elev)"
   ]
  },
  {
   "cell_type": "code",
   "execution_count": null,
   "metadata": {},
   "outputs": [],
   "source": [
    "for i in range(nsteps // 2):\n",
    "    extender.run_one_step(dt)\n",
    "imshow_grid(grid, elev)"
   ]
  },
  {
   "cell_type": "code",
   "execution_count": null,
   "metadata": {},
   "outputs": [],
   "source": [
    "for i in range(nsteps // 2):\n",
    "    extender.run_one_step(dt)\n",
    "imshow_grid(grid, elev)"
   ]
  },
  {
   "cell_type": "code",
   "execution_count": null,
   "metadata": {},
   "outputs": [],
   "source": [
    "imshow_grid(grid, extender._fault_normal_coord)"
   ]
  },
  {
   "cell_type": "code",
   "execution_count": null,
   "metadata": {},
   "outputs": [],
   "source": [
    "# Plot a cross-section\n",
    "start_node = 6 * ncols\n",
    "end_node = start_node + ncols\n",
    "midrow = np.arange(start_node, end_node, dtype=int)\n",
    "plt.plot(grid.x_of_node[midrow] / 1000.0, elev[midrow], \"k\")\n",
    "plt.xlabel(\"Distance (km)\")\n",
    "plt.ylabel(\"Elevation (m)\")\n",
    "plt.grid(True)\n",
    "\n",
    "# Add a plot of the fault plane\n",
    "dist_from_fault = grid.x_of_node - fault_loc\n",
    "dist_from_fault[dist_from_fault < 0.0] = 0.0\n",
    "x0 = detachment_depth / np.tan(np.deg2rad(fault_dip))\n",
    "fault_plane = -(detachment_depth * (1.0 - np.exp(-dist_from_fault / x0)))\n",
    "plt.plot(grid.x_of_node[midrow] / 1000.0, fault_plane[midrow], \"r\")"
   ]
  },
  {
   "cell_type": "markdown",
   "metadata": {},
   "source": [
    "### Example 4: hex grid"
   ]
  },
  {
   "cell_type": "code",
   "execution_count": null,
   "metadata": {},
   "outputs": [],
   "source": [
    "from landlab import HexModelGrid\n",
    "\n",
    "# parameters\n",
    "nrows = 31\n",
    "ncols = 51\n",
    "dx = 1000.0  # grid spacing, m\n",
    "nsteps = 20  # number of iterations\n",
    "dt = 2.5e5  # time step, y\n",
    "extension_rate = 0.001  # m/y\n",
    "detachment_depth = 10000.0  # m\n",
    "fault_dip = 60.0  # fault dip angle, degrees\n",
    "fault_loc = 10000.0  # m from left side of model\n",
    "period = 15000.0  # period of sinusoidal variations in initial topography, m\n",
    "ampl = 500.0  # amplitude of variations, m"
   ]
  },
  {
   "cell_type": "code",
   "execution_count": null,
   "metadata": {},
   "outputs": [],
   "source": [
    "# Create grid and elevation field\n",
    "grid = HexModelGrid((nrows, ncols), spacing=dx, node_layout=\"rect\")\n",
    "\n",
    "elev = grid.add_zeros(\"topographic__elevation\", at=\"node\")\n",
    "elev[:] = (\n",
    "    ampl\n",
    "    * np.sin(2 * np.pi * grid.x_of_node / period)\n",
    "    * np.sin(2 * np.pi * grid.y_of_node / period)\n",
    ")\n",
    "\n",
    "# Instantiate component\n",
    "extender = ListricKinematicExtender(\n",
    "    grid,\n",
    "    extension_rate=extension_rate,\n",
    "    fault_dip=fault_dip,\n",
    "    fault_location=fault_loc,\n",
    "    detachment_depth=detachment_depth,\n",
    ")"
   ]
  },
  {
   "cell_type": "code",
   "execution_count": null,
   "metadata": {},
   "outputs": [],
   "source": [
    "# Plot the starting topography\n",
    "imshow_grid(grid, elev)"
   ]
  },
  {
   "cell_type": "code",
   "execution_count": null,
   "metadata": {},
   "outputs": [],
   "source": [
    "for i in range(nsteps // 2):\n",
    "    extender.run_one_step(dt)\n",
    "imshow_grid(grid, elev)"
   ]
  },
  {
   "cell_type": "code",
   "execution_count": null,
   "metadata": {},
   "outputs": [],
   "source": [
    "for i in range(nsteps // 2):\n",
    "    extender.run_one_step(dt)\n",
    "imshow_grid(grid, elev)"
   ]
  },
  {
   "cell_type": "code",
   "execution_count": null,
   "metadata": {},
   "outputs": [],
   "source": [
    "# Plot a cross-section\n",
    "start_node = 6 * ncols\n",
    "end_node = start_node + ncols\n",
    "midrow = np.arange(start_node, end_node, dtype=int)\n",
    "plt.plot(grid.x_of_node[midrow] / 1000.0, elev[midrow], \"k\")\n",
    "plt.xlabel(\"Distance (km)\")\n",
    "plt.ylabel(\"Elevation (m)\")\n",
    "plt.grid(True)\n",
    "\n",
    "# Add a plot of the fault plane\n",
    "dist_from_fault = grid.x_of_node - fault_loc\n",
    "dist_from_fault[dist_from_fault < 0.0] = 0.0\n",
    "x0 = detachment_depth / np.tan(np.deg2rad(fault_dip))\n",
    "fault_plane = -(detachment_depth * (1.0 - np.exp(-dist_from_fault / x0)))\n",
    "plt.plot(grid.x_of_node[midrow] / 1000.0, fault_plane[midrow], \"r\")"
   ]
  },
  {
   "cell_type": "markdown",
   "metadata": {},
   "source": [
    "### Example 5: combining with lithosphere flexure"
   ]
  },
  {
   "cell_type": "code",
   "execution_count": null,
   "metadata": {},
   "outputs": [],
   "source": [
    "from landlab.components import Flexure\n",
    "\n",
    "# parameters\n",
    "nrows = 31\n",
    "ncols = 51\n",
    "dx = 1000.0  # grid spacing, m\n",
    "nsteps = 20  # number of iterations\n",
    "dt = 2.5e5  # time step, y\n",
    "extension_rate = 0.001  # m/y\n",
    "detachment_depth = 10000.0  # m\n",
    "fault_dip = 60.0  # fault dip angle, degrees\n",
    "fault_loc = 10000.0  # m from left side of model\n",
    "period = 15000.0  # period of sinusoidal variations in initial topography, m\n",
    "ampl = 500.0  # amplitude of variations, m\n",
    "\n",
    "# flexural parameters\n",
    "eet = 5000.0  # effective elastic thickness, m (here very thin)\n",
    "crust_datum = -10000.0  # elevation of crustal reference datum, m\n",
    "rhoc = 2700.0  # crust density, kg/m3\n",
    "g = 9.8  # guess what?"
   ]
  },
  {
   "cell_type": "code",
   "execution_count": null,
   "metadata": {},
   "outputs": [],
   "source": [
    "# Create grid and elevation field\n",
    "grid = RasterModelGrid((nrows, ncols), xy_spacing=dx)\n",
    "elev = grid.add_zeros(\"topographic__elevation\", at=\"node\")\n",
    "elev[:] = (\n",
    "    ampl\n",
    "    * np.sin(2 * np.pi * grid.x_of_node / period)\n",
    "    * np.sin(2 * np.pi * grid.y_of_node / period)\n",
    ")\n",
    "thickness = grid.add_zeros(\"upper_crust_thickness\", at=\"node\")\n",
    "load = grid.add_zeros(\"lithosphere__overlying_pressure_increment\", at=\"node\")\n",
    "\n",
    "# Instantiate components\n",
    "extender = ListricKinematicExtender(\n",
    "    grid,\n",
    "    extension_rate=extension_rate,\n",
    "    fault_dip=fault_dip,\n",
    "    fault_location=fault_loc,\n",
    "    detachment_depth=detachment_depth,\n",
    "    track_crustal_thickness=True,\n",
    ")\n",
    "cum_subs = grid.at_node[\"cumulative_subsidence_depth\"]\n",
    "\n",
    "flexer = Flexure(grid, eet=eet, method=\"flexure\")\n",
    "deflection = grid.at_node[\"lithosphere_surface__elevation_increment\"]"
   ]
  },
  {
   "cell_type": "code",
   "execution_count": null,
   "metadata": {},
   "outputs": [],
   "source": [
    "# set up thickness and flexure\n",
    "unit_wt = rhoc * g\n",
    "thickness[:] = elev - crust_datum\n",
    "load[:] = unit_wt * thickness\n",
    "\n",
    "flexer.update()\n",
    "init_flex = deflection.copy()"
   ]
  },
  {
   "cell_type": "code",
   "execution_count": null,
   "metadata": {},
   "outputs": [],
   "source": [
    "# show initial deflection field (positive downward)\n",
    "imshow_grid(grid, init_flex)"
   ]
  },
  {
   "cell_type": "code",
   "execution_count": null,
   "metadata": {},
   "outputs": [],
   "source": [
    "for i in range(nsteps):\n",
    "    extender.run_one_step(dt)\n",
    "    load[:] = unit_wt * thickness\n",
    "    flexer.update()\n",
    "    net_deflection = deflection - init_flex\n",
    "    elev[:] = crust_datum + thickness - (cum_subs + net_deflection)"
   ]
  },
  {
   "cell_type": "code",
   "execution_count": null,
   "metadata": {},
   "outputs": [],
   "source": [
    "imshow_grid(grid, thickness)"
   ]
  },
  {
   "cell_type": "code",
   "execution_count": null,
   "metadata": {},
   "outputs": [],
   "source": [
    "imshow_grid(grid, net_deflection)"
   ]
  },
  {
   "cell_type": "code",
   "execution_count": null,
   "metadata": {},
   "outputs": [],
   "source": [
    "imshow_grid(grid, cum_subs)"
   ]
  },
  {
   "cell_type": "code",
   "execution_count": null,
   "metadata": {},
   "outputs": [],
   "source": [
    "imshow_grid(grid, elev)"
   ]
  },
  {
   "cell_type": "code",
   "execution_count": null,
   "metadata": {},
   "outputs": [],
   "source": [
    "plt.plot(elev.reshape(31, 51)[:, 10], label=\"Rift shoulder\")\n",
    "plt.plot(elev.reshape(31, 51)[:, 12], label=\"Rift basin\")\n",
    "plt.plot(-net_deflection.reshape(31, 51)[:, 10], label=\"Isostatic uplift profile\")\n",
    "plt.xlabel(\"North-south distance (km)\")\n",
    "plt.ylabel(\"Height (m)\")\n",
    "plt.legend()"
   ]
  },
  {
   "cell_type": "markdown",
   "metadata": {},
   "source": [
    "### Click here for more <a href=\"https://landlab.readthedocs.io/en/latest/user_guide/tutorials.html\">Landlab tutorials</a>"
   ]
  }
 ],
 "metadata": {
  "kernelspec": {
   "display_name": "Python 3 (ipykernel)",
   "language": "python",
   "name": "python3"
  },
  "language_info": {
   "codemirror_mode": {
    "name": "ipython",
    "version": 3
   },
   "file_extension": ".py",
   "mimetype": "text/x-python",
   "name": "python",
   "nbconvert_exporter": "python",
   "pygments_lexer": "ipython3",
   "version": "3.11.2"
  }
 },
 "nbformat": 4,
 "nbformat_minor": 4
}
