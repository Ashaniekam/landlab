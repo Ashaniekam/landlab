{
 "cells": [
  {
   "cell_type": "markdown",
   "id": "75f5a5ac",
   "metadata": {},
   "source": [
    "# TVD advection solver and related functions\n",
    "\n",
    "*(Greg Tucker, first written March 2023)*\n",
    "\n",
    "This notebook reviews Landlab tools for solving advection equations numerically. The tools include the `AdvectionSolverTVD` component and related functions. `AdvectionSolverTVD` provides a second-order, total variation diminishing (TVD) numerical finite-volume solution to the 2D advection equation. The component requires a structured grid (raster or hex). The component can advect any node-based field or array. The user needs to provide a link-based advection velocity field.\n",
    "\n",
    "## Overview of new functions\n",
    "\n",
    "Second-order TVD methods require evaluation of gradients \"upwind\" of a given location, where \"upwind\" means in the direction opposite to the advection direction. To facilitate this, Landlab's `components.advection` package includes the following functions:\n",
    "\n",
    "- `find_upwind_link_at_link`: for each link, identifies the adject parallel link that lies in the upwind direction. This function makes use of the raster- and hex-based property `parallel_links_at_link`, which is a (number-of-links x 2) data structure that records the IDs of adjacent parallel links that lie in the tail-wise (elements [:,0]) and head-wise (elements [:,1]) directions.\n",
    "- `upwind_to_local_grad_ratio`: for each link, calculates the ratio of gradient of given node scalar at the upwind link (if it exists) to the gradient at local link. For links that lack an upwind link (e.g., upwind would be beyond the grid boundary), or those where the local gradient is zero, a value of 1 is assigned. (Note that links along a grid boundary are considered not to have an upwind link.)\n",
    "\n",
    "TVD methods also require the use of a \"flux limiter\" function, which takes the upwind-to-local gradient ratio as an input, and returns a weighting factor that sets the relative contribution of high-order to low-order terms (see below). Many flux limiter functions have been proposed. As of this writing, Landlab's advection package includes just one: `flux_lim_vanleer`, which can be imported from `landlab.advection.flux_limiters`.\n"
   ]
  },
  {
   "cell_type": "code",
   "execution_count": null,
   "id": "b5af6b1a",
   "metadata": {},
   "outputs": [],
   "source": []
  },
  {
   "cell_type": "markdown",
   "id": "41df4f7a",
   "metadata": {},
   "source": [
    "## Theory\n",
    "\n",
    "The `AdvectionSolverTVD` and related support functions provide second-order TVD models for 2D advection. Here we briefly review the theory using a 1D advection equation with state variable $z$:\n",
    "\n",
    "$$\\frac{\\partial z}{\\partial t} = -u \\frac{\\partial z}{\\partial x}$$\n",
    "\n",
    "where $t$ is time, $x$ is spatial position in 1D, and $u$ is advection velocity (positive in the $x$ direction). This type of equation comes in up in numerous contexts in Earth and environmental sciences. The right-hand side is an *advection term*; often such terms appear in combination with other terms, such as diffusion or source. (See for example Slingerland and Kump *Mathematical Modeling of Earth's Dynamical Systems* (2011)).\n",
    "\n",
    "To learn more about numerical solutions to advection problems, I highly recommend a series of online videos by Dr. Hilary Weller in the Meteorology Department at the University of Reading.\n",
    "\n",
    "\n",
    "### Discretizing the advection equation\n",
    "\n",
    "A common discretization involves solving $z$ at a set of *nodes*, which we'll indicate with a subscript $j$, so that $z_j$ refers to the value of $z$ at node $j$. We'll use superscripts to denote time step, so that $z_j^n$ means the value of $z$ at node $j$ and time step $n$. Using a first-order forward-difference time discretization, the discretized 1D advection equation can be written as:\n",
    "\n",
    "$$\\frac{z_j^{n+1}-z_j^n}{\\Delta t} = -u \\frac{z_{j+1/2} - z_{j-1/2}}{\\Delta x}$$\n",
    "\n",
    "where $\\Delta x$ is the spacing between nodes. Note that we've omitted the time-step superscript on the right side; for purposes of this example, we'll assume it is $n$, indicating an explicit solution, where not otherwise noted.\n",
    "\n",
    "We can rearrange this equation to solve for the future quantity as:\n",
    "\n",
    "$$z_j^{n+1} = z_j -c( z_{j+1/2} - z_{j-1/2} )$$\n",
    "\n",
    "where $c$ is a dimensionless parameter known as the Courant number:\n",
    "\n",
    "$$c = \\frac{u\\Delta t}{\\Delta x}$$\n",
    "\n",
    "Note that $c$ has the same sign as $u$.\n",
    "\n",
    "### Second-order Total Variation Diminishing scheme\n",
    "\n",
    "One of the challenges in solving advection problems discretized as above is defining what $j+1/2$ or $j-1/2$ means. If we imagine that each node sits inside a cell of width $\\Delta x$, then index $j+1/2$ refers to the interface between the cells that contain nodes $j$ and $j+1$. The sketch below shows two nodes (indicated by a dot), labeled $j$ and $j+1$, with the ^ mark showing the interface at location $j+1/2$:\n",
    "\n",
    "```\n",
    "-------------\n",
    "|  .  |  .  |\n",
    "-------------\n",
    "   j  ^ j+1\n",
    "    j+1/2\n",
    "```\n",
    "\n",
    "One approach is to use a *first-order upwind* method, in which we assign to location $z_{j+1/2}$ either the value $z_j$ or $z_{j+1}$, depending on which is \"upwind\" (in the direction opposite to that implied by $u$). If $u>0$, we would assign $z_j$; if $u<0$, we would assign $z_{j+1}$. Mathematically, this can be written:\n",
    "\n",
    "$$z_{j+1/2} = z_j \\text{ if } c\\ge0, z_{j+1} \\text{otherwise}$$\n",
    "\n",
    "The problem with first-order upwind schemes is that they tend to produce excessive smoothing. One solution is to use a *linear second-order advection scheme*. One such scheme is the well-known Lax-Wendroff method, which assigns a weighted average of $z_j$ and $z_{j+1}$ based on the Courant number:\n",
    "\n",
    "$$z_{j+1/2} = \\frac{1}{2}(1+c)z_j + \\frac{1}{2} (1-c)z_{j+1}$$\n",
    "\n",
    "However, linear second-order methods generate spurious oscillations in the solution. Lax-Wendroff solutions tend to be smooth ahead of a discontinuity but generates oscillations behind it. The Warming and Beam method:\n",
    "\n",
    "$$z_{j+1/2} = \\frac{1}{2}(3-c)z_j - \\frac{1}{2} (1-c)z_{j-1}$$\n",
    "\n",
    "has the opposite problem, with smoothness behind but oscillations ahead.\n",
    "\n",
    "These oscillation represent an increase in the *total variation*, which in this discrete formulation is the sum of $|z_j - z_{j+1}|$, i.e., the sum of all variations in adjacent values of $z$.\n",
    "\n",
    "To ensure *Total Variation Diminishing*, we can calculate $z_{j+1/2}$ as a weighted average of a *high-order flux* $z_H$ and a *low-order flux* $z_L$:\n",
    "\n",
    "$$z_{j+1/2} = \\Psi_{j+1/2} z_H + (1-\\Psi_{j+1/2}) z_L$$\n",
    "\n",
    "The low-order flux is just the linear upwind solution:\n",
    "\n",
    "$$z_{L,j+1/2} = z_j \\text{ if } c\\ge0, z_{j+1} \\text{otherwise}$$\n",
    "\n",
    "For the high-order flux, Lax-Wendroff is a good choice:\n",
    "\n",
    "$$z_{H,j+1/2} = \\frac{1}{2}(1+c)z_j + \\frac{1}{2} (1-c)z_{j+1}$$\n",
    "\n",
    "$\\Psi$ is called a *flux limiter* function. The idea is to use $z_H$ as much as possible. In particular, have $\\Psi$ approach 1 where the solution is smooth, and approach zero where the solution is changing fast. This is a nonlinear method because $\\Psi$ depends on $\\phi$.\n",
    "\n",
    "It turns out to be useful to define $\\Psi$ in terms of a variable called $r$, which represents the ratio of the upwind gradient to the local gradient. For $u>0$,\n",
    "\n",
    "$$r_{j+1/2} = \\frac{z_j - z_{j-1}}{z_{j+1}-z_j}$$\n",
    "\n",
    "and for $u<0$\n",
    "\n",
    "$$r_{j+1/2} = \\frac{z_{j+2} - z_{j+1}}{z_{j+1}-z_j}$$\n",
    "\n",
    "(Note: I have not found a source that describes what to do when the denominator is zero. From Campforts et al. (2017) it looks as they set $r=1$ when that happens.)\n",
    "\n",
    "One can cast $\\Psi$ as a function of $r$. There are constraints on doing this to ensure TVD (summarized [here](https://en.wikipedia.org/wiki/Flux_limiter)). There are lots of these flux limiter functions. As of this writing, the one used in `AdvectionSolverTVD` is called Van Leer:\n",
    "\n",
    "$$\\Psi(r) = \\frac{r+|r|}{1+|r|}$$\n",
    "\n",
    "Practically speaking, one needs to compute gradients locally and at the upwind locations in order to calculate $r$, then calculate the flux limiter $\\Psi$ for each pair of adjacent nodes. After computing $z_H$ and $z_L$ for each pair of nodes, you calculate the weighted averages using $\\Psi$. Once that's done, you calculate the solution to the difference equation above to get the value of $z$ at each node for the new time step. As described below, the `AdvectionSolverTVD` takes advantage of Landlab's node-link geometry to do these calculations."
   ]
  },
  {
   "cell_type": "markdown",
   "id": "f6307003",
   "metadata": {},
   "source": [
    "## Numerical implementation on a Landlab grid\n",
    "\n",
    "In translating the second-order TVD scheme above onto a Landlab structured grid, it's important to note that the discretized advection equation can be cast as a conservation-law problem. For the sake of a concrete example, suppose we are interested in the tectonic advection of topography through a fixed grid. The volume of material inside a grid cell $j$ with area $a_j$ is its average height, $z_j$, times the area. Along each face $k$ of the cell, material is being advected in at a rate of $Q_k$ cubic meters per year. If $Q_k$ is negative, it means that material is being carried out of the cell at that face. The rate of change of volume is:\n",
    "\n",
    "$$\\frac{\\partial a_jz_j}{\\partial t} = \\sum_{k=1}{N_j} Q_k$$\n",
    "\n",
    "Let $\\lambda$ represent the length of a cell *face*. We can use this to express volume flux in terms of volume per face length, $q_k$, times $\\lambda$:\n",
    "\n",
    "$$\\frac{\\partial a_jz_j}{\\partial t} = \\sum_{k=1}{N_j} \\lambda_k q_k$$\n",
    "\n",
    "Assuming the cell areas don't change with time,\n",
    "\n",
    "$$\\frac{\\partial z_j}{\\partial t} = \\frac{1}{a_j} \\sum_{k=1}{N_j} \\lambda_k q_k$$\n",
    "\n",
    "Landlab already has a built-in function to calculate the right-hand side of this equation: `calc_flux_div_at_node`. The user just needs to provide an array of $q$ values defined at links, and the function then uses the grid geometry ($\\lambda$ and $a$) to calculate the resulting rate.\n",
    "\n",
    "For the topographic advection problem, $q_k$ for any given cell face is the product of $z_k$ and the face-perpendicular advection velocity $u_k$. Because each cell face also has a matching *link* that connects the two nodes in question, the approach used by `AdvectionSolverTVD` is to calculate and store $z_k$, $u_k$, and $q_k$ at the links. Among other things, this means that the user needs to provide face-perpendicular (link-parallel) advection velocities $u_k$.\n",
    "\n",
    "### Setting up face-perpendicular advection velocities\n",
    "\n",
    "For a `RasterModelGrid`, assigning face-perpendicular velocities is straightforward. Assuming you know the $x$ and $y$ velocity components, you can simply assign the $x$ component to horizontal links, and the $y$ component to vertical links. For example, if `u` is an at-link velocity array (a required input; see below), `grid` is a `RasterModelGrid`, and `ux` and `uy` are the velocity components, then you can assign the correct link-parallel velocities with:\n",
    "\n",
    "```\n",
    "u[grid.horizontal_links] = ux\n",
    "u[grid.vertical_links] = uy\n",
    "```\n",
    "\n",
    "For a `HexModelGrid`, it is a bit more complicated, because the faces don't all align with Cartesian directions. Fortunately, Landlab provides a mapping function called `map_vectors_to_links` to take care of this, illustrated by this example:\n",
    "\n",
    "```\n",
    "vel = grid.add_zeros('advection__velocity', at='link')\n",
    "map_vectors_to_links(grid, ux, uy, out=vel)\n",
    "```\n",
    "\n",
    "The function works with raster grids too, so the above code could be used instead for that case as well.\n",
    "\n",
    "### How `AdvectionSolverTVD` calculates its solution\n",
    "\n",
    "To calculate a rate of vertical change, the solution algorithm involves these steps:\n",
    "\n",
    "1. If the advection field is changing in sign/direction, re-identify for each link the link that lies upwind. This calculation makes use of the `find_upwind_link_at_link` function, which in turn relies on the `parallel_links_at_link` data structure of raster and hex grids (which is only created when needed).\n",
    "\n",
    "2. Use the function `map_node_to_link_linear_upwind` to identify a \"low order\" value of the advected quantity at each link.\n",
    "\n",
    "3. For each link, use the function `map_node_to_link_lax_wendroff` to calculate a \"high order\" value of the advected quantity at each link.\n",
    "\n",
    "4. Use the function `upwind_to_local_grad_ratio` to calculate the ratio of upwind to local gradient in the advected quantity at each link (applying a value of unity where an upwind link does not exist or the local gradient is zero).\n",
    "\n",
    "5. From the gradient ratio, use the function `flux_lim_vanleer` to calculate the weighting factor $\\Psi$.\n",
    "\n",
    "6. Using the weighting factor, calculate a value of the advected quantity at the links using a weighted average of the low-order and high-order values.\n",
    "\n",
    "7. Calculate a flux at each *active* link by multiplying the link-based value of the advected quantity by the link-perpendicular advection velocity.\n",
    "\n",
    "8. Use the `calc_flux_div_at_node` function to calculate the flux divergence, and return the (negative) value of this as the time rate of change of the advected variable at each (non-perimeter) node.\n",
    "\n",
    "Calling `update(dt)` or `run_one_step(dt)` (they are synonyms) computes this rate of change and then updates the advected quantity using a forward-Euler step with the given time-step duration `dt`.\n",
    "\n",
    "### Parameters to `AdvectionSolverTVD`\n",
    "\n",
    "Like nearly all Landlab components, `AdvectionSolverTVD` takes a `ModelGrid` object as its first argument. As of this writing, it must be a `RasterModelGrid` or `HexModelGrid` (unstructured grids don't have parallel connected links, so there's no natural \"upwind\" connectivity). (If someone wants to figure out how to extend this capability to unstructured grids, please go for it!)\n",
    "\n",
    "Other parameters include:\n",
    "\n",
    "- `field_to_advect`: a node-based field or array that represents the quantity to be advected (for example, in a contaminant-transport problem this could be contaminant mass concentration; for a topographic advection problem it would be the topographic elevation field; for water-wave propagation it would be the water-surface height, etc.).\n",
    "\n",
    "- `advection_direction_is_steady`: a boolean that defaults to `False`. If you know that the advection direction is not changing, set it to `True` to skip the overhead of re-identifying the upwind links at each time steps.\n",
    "\n"
   ]
  },
  {
   "cell_type": "markdown",
   "id": "12414f5a",
   "metadata": {},
   "source": [
    "## Examples\n",
    "\n",
    "### Advection of a step function\n",
    "\n",
    "#### Raster grid"
   ]
  },
  {
   "cell_type": "code",
   "execution_count": null,
   "id": "9c4216b5",
   "metadata": {},
   "outputs": [],
   "source": [
    "import numpy as np\n",
    "import matplotlib.pyplot as plt\n",
    "from landlab import RasterModelGrid, HexModelGrid\n",
    "from landlab.components import AdvectionSolverTVD"
   ]
  },
  {
   "cell_type": "code",
   "execution_count": null,
   "id": "96046024",
   "metadata": {},
   "outputs": [],
   "source": [
    "# Parameters\n",
    "u = 1.0            # advection velocity in x direction\n",
    "c = 0.2            # Courant number\n",
    "nnodes = 100       # number of grid columns\n",
    "ntimesteps = 100   # number of time steps"
   ]
  },
  {
   "cell_type": "code",
   "execution_count": null,
   "id": "980004f7",
   "metadata": {},
   "outputs": [],
   "source": [
    "# Setup\n",
    "dx = 1.0 / (nnodes - 1)\n",
    "dt = c * dx / u\n",
    "\n",
    "# Create grid\n",
    "grid = RasterModelGrid((3, nnodes), xy_spacing=dx)\n",
    "\n",
    "# Create field for the advected quantity (here topographic elevation)\n",
    "elev = grid.add_zeros('topographic__elevation', at='node')\n",
    "\n",
    "# Initial condition: a step function from x = 0.4 to 0.6\n",
    "step_exists = np.logical_and(\n",
    "    grid.x_of_node >= 0.4,\n",
    "    grid.x_of_node <= 0.6\n",
    ")\n",
    "elev[step_exists] = 1.0\n",
    "\n",
    "# Create field for advection velocity\n",
    "vel = grid.add_zeros('advection__velocity', at='link')\n",
    "vel[grid.horizontal_links] = u\n",
    "\n",
    "# Instantiate component\n",
    "advector = AdvectionSolverTVD(\n",
    "    grid, field_to_advect=\"topographic__elevation\", advection_direction_is_steady=True\n",
    ")\n",
    "\n",
    "# For plotting convenience\n",
    "midrow = np.arange(nnodes, 2*nnodes, dtype=int)\n",
    "x = grid.x_of_node[midrow]"
   ]
  },
  {
   "cell_type": "code",
   "execution_count": null,
   "id": "7cf07c32",
   "metadata": {},
   "outputs": [],
   "source": [
    "plt.plot(x, elev[midrow], label=\"Step 0\")\n",
    "plt.xlabel('Distance')\n",
    "plt.ylabel('Height')\n",
    "for i in range(ntimesteps):\n",
    "    advector.update(dt)\n",
    "    if (i+1)%20==0:\n",
    "        plt.plot(x, elev[midrow], label=\"Step \" + str(i+1))\n",
    "plt.legend()"
   ]
  },
  {
   "cell_type": "markdown",
   "id": "bd8a8108",
   "metadata": {},
   "source": [
    "#### Raster grid, rotated coordinates\n",
    "\n",
    "This is the same example as above, but with the grid's long axis and advection both in the $y$ direction."
   ]
  },
  {
   "cell_type": "code",
   "execution_count": null,
   "id": "d7c11a08",
   "metadata": {},
   "outputs": [],
   "source": [
    "# Create grid\n",
    "grid = RasterModelGrid((nnodes, 3), xy_spacing=dx)\n",
    "\n",
    "# Create field for the advected quantity (here topographic elevation)\n",
    "elev = grid.add_zeros('topographic__elevation', at='node')\n",
    "\n",
    "# Initial condition: a step function from x = 0.4 to 0.6\n",
    "step_exists = np.logical_and(\n",
    "    grid.y_of_node >= 0.4,\n",
    "    grid.y_of_node <= 0.6\n",
    ")\n",
    "elev[step_exists] = 1.0\n",
    "\n",
    "# Create field for advection velocity\n",
    "vel = grid.add_zeros('advection__velocity', at='link')\n",
    "vel[grid.vertical_links] = u\n",
    "\n",
    "# Instantiate component\n",
    "advector = AdvectionSolverTVD(\n",
    "    grid, field_to_advect=\"topographic__elevation\", advection_direction_is_steady=True\n",
    ")\n",
    "\n",
    "# For plotting convenience\n",
    "midrow = np.arange(1, 3*nnodes-1, 3, dtype=int)\n",
    "x = grid.y_of_node[midrow]"
   ]
  },
  {
   "cell_type": "code",
   "execution_count": null,
   "id": "4603f00a",
   "metadata": {},
   "outputs": [],
   "source": [
    "plt.plot(x, elev[midrow], label=\"Step 0\")\n",
    "plt.xlabel('Distance')\n",
    "plt.ylabel('Height')\n",
    "for i in range(ntimesteps):\n",
    "    advector.update(dt)\n",
    "    if (i+1)%20==0:\n",
    "        plt.plot(x, elev[midrow], label=\"Step \" + str(i+1))\n",
    "plt.legend()"
   ]
  },
  {
   "cell_type": "markdown",
   "id": "e236f6cc",
   "metadata": {},
   "source": [
    "### Landlab TVD 1D with a hex grid\n",
    "\n",
    "To adapt the solution for a hex grid, we need to revisit the basic math. The governing equation in 1d can be cast as a conservation law in which the unit flux, $q$, equals height (or whatever the dependent variable may be) times advection velocity. Hence:\n",
    "\n",
    "$$\\frac{\\partial z}{\\partial t} = -\\frac{\\partial q}{\\partial x}$$\n",
    "\n",
    "Integrating over area $A$,\n",
    "\n",
    "$$\\int_A \\frac{\\partial z}{\\partial t} = -\\int_A \\frac{\\partial q}{\\partial x}$$\n",
    "\n",
    "Applying Leibnitz rule, and/or a piece of math that I admit I don't really fully understand, you can express this as:\n",
    "\n",
    "$$A \\frac{\\partial z}{\\partial t} = -\\oint_L q j$$\n",
    "\n",
    "where the right side is a line integral around the perimeter of area $A$ ($L$), and $j$ is the unit vector normal to that perimeter. The concept is more intuitive when written in a finite volume form: the time rate of change of $z$ equals the sum of the specific inflow rate across the perimeter, divided by the area:\n",
    "\n",
    "$$\\frac{\\partial z}{\\partial t} = \\frac{1}{A} \\sum_{k=1}^N q_k \\lambda_k$$\n",
    "\n",
    "Here $q_k$ is the unit flux across the $k$-th face, $\\lambda_k$ is the width of that face, and written this way, $q$ would be considered positive inward. If all the faces have the same width, $\\lambda$ (no $k$ needed), then this becomes:\n",
    "\n",
    "$$\\frac{\\partial z}{\\partial t} = \\frac{\\lambda}{A} \\sum_{k=1}^N q_k$$\n",
    "\n",
    "With a raster grid, $N=4$ (generally, apart from cells adjacent to boundaries), $\\lambda=\\Delta x$, and $A=\\Delta x^2$, so the fraction in front just becomes ($1/\\Delta x$). With a hex grid,\n",
    "\n",
    "$$\\frac{\\partial z}{\\partial t} = \\frac{\\lambda}{A} \\sum_{k=1}^N q_k$$\n",
    "\n",
    "The area of a regular hexagon, in terms of face width $\\lambda$, is \n",
    "\n",
    "$$A = \\frac{3\\sqrt{3}}{2} \\lambda^2$$\n",
    "\n",
    "The \"inradius\", $r$, is half the spacing in a hex grid. It's relation to area is\n",
    "\n",
    "$$A = 2 \\sqrt{3} r^2$$\n",
    "\n",
    "Given that our spacing $\\Delta s = 2r$,\n",
    "\n",
    "\n",
    "$$A = \\frac{\\sqrt{3}}{2}\\Delta s^2$$\n",
    "\n",
    "Meanwhile, the side length $\\lambda$ is related by\n",
    "\n",
    "$$r = \\frac{\\sqrt{3}}{2}\\lambda$$\n",
    "\n",
    "or\n",
    "\n",
    "$$\\Delta s = \\sqrt{3} \\lambda$$\n",
    "\n",
    "So if I've done this right,\n",
    "\n",
    "$$\\frac{\\lambda}{A} = \\frac{2}{3\\Delta s}$$\n",
    "\n",
    "The 2/3 factor makes sense: when you integrate flux, you have 3/2x the number of faces relative to a square cell, so there's a cancellation between 3/2 and 2/3.\n",
    "\n",
    "Here's a verification:"
   ]
  },
  {
   "cell_type": "code",
   "execution_count": null,
   "id": "d3d9638b",
   "metadata": {},
   "outputs": [],
   "source": [
    "hmg = HexModelGrid((3, 3))\n",
    "print(hmg.area_of_cell)\n",
    "print(hmg.length_of_face)\n",
    "print(hmg.length_of_face[0] / hmg.area_of_cell[0])"
   ]
  },
  {
   "cell_type": "markdown",
   "id": "c322aea6",
   "metadata": {},
   "source": [
    "#### 1D test with long hex grid in horizontal orientation"
   ]
  },
  {
   "cell_type": "code",
   "execution_count": null,
   "id": "8d9e940f",
   "metadata": {},
   "outputs": [],
   "source": [
    "# Parameters\n",
    "u = 1.0\n",
    "c = 0.2\n",
    "nnodes = 100\n",
    "ntimesteps = 100"
   ]
  },
  {
   "cell_type": "code",
   "execution_count": null,
   "id": "cdc88022",
   "metadata": {},
   "outputs": [],
   "source": [
    "# Setup\n",
    "dx = 1.0 / (nnodes - 1)\n",
    "dt = c * dx / u\n",
    "\n",
    "# create grid\n",
    "grid = HexModelGrid((3, nnodes - 1), spacing=dx)\n",
    "\n",
    "# Boundary condition\n",
    "grid.status_at_node[grid.perimeter_nodes] = grid.BC_NODE_IS_CLOSED\n",
    "\n",
    "# create fields\n",
    "elev = grid.add_zeros('topographic__elevation', at='node')\n",
    "\n",
    "# initialize fields\n",
    "step_exists = np.logical_and(\n",
    "    grid.x_of_node >= 0.4,\n",
    "    grid.x_of_node <= 0.6\n",
    ")\n",
    "elev[step_exists] = 1.0\n",
    "\n",
    "# misc\n",
    "midrow = np.arange(nnodes - 1, (2 * nnodes) - 1, dtype=int)\n",
    "x = grid.x_of_node[midrow]\n",
    "flux_at_link = np.zeros(grid.number_of_links)\n",
    "\n",
    "# for setup of link connectivity\n",
    "#pll = setup_link_at_link(grid)\n",
    "uwll = find_upwind_link_at_link(grid, c) #, pll)\n"
   ]
  },
  {
   "cell_type": "code",
   "execution_count": null,
   "id": "7eaa8b15",
   "metadata": {},
   "outputs": [],
   "source": [
    "# note: factor of 1.5 corrects for lack of flux through angling faces\n",
    "plt.plot(x, elev[midrow])\n",
    "for i in range(ntimesteps):\n",
    "    \n",
    "    elev_link_low = map_value_to_links_linear_upwind(grid, elev, c)\n",
    "    elev_link_high = map_value_to_links_lax_wendroff(grid, elev, c)\n",
    "    r, _, _, _ = upwind_to_local_grad_ratio(grid, elev, c, uwll)\n",
    "    psi = flux_lim_vanleer(r)\n",
    "    elev_at_link = psi * elev_link_high + (1.0 - psi) * elev_link_low\n",
    "    flux_at_link[grid.active_links] = u * elev_at_link[grid.active_links]\n",
    "    dqdx = grid.calc_flux_div_at_node(flux_at_link)\n",
    "    elev[grid.core_nodes] -= 1.5 * dqdx[grid.core_nodes] * dt\n",
    "    if (i+1)%20==0:\n",
    "        plt.plot(x, elev[midrow])\n",
    "        plt.plot(x, raster_step, 'k:')"
   ]
  },
  {
   "cell_type": "markdown",
   "id": "0882ded5",
   "metadata": {},
   "source": [
    "#### 1D test with long hex grid in vertical orientation"
   ]
  },
  {
   "cell_type": "code",
   "execution_count": null,
   "id": "44e7a2a7",
   "metadata": {},
   "outputs": [],
   "source": [
    "# Parameters\n",
    "u = 1.0\n",
    "c = 0.2\n",
    "nnodes = 100\n",
    "step_start = 140  # node number of step's left edge\n",
    "step_end = 160  # node number of step's right edge\n",
    "ntimesteps = 100"
   ]
  },
  {
   "cell_type": "code",
   "execution_count": null,
   "id": "aefb3f9f",
   "metadata": {},
   "outputs": [],
   "source": [
    "# Setup\n",
    "dx = 1.0 / (nnodes - 1)\n",
    "dt = c * dx / u\n",
    "\n",
    "# create grid\n",
    "grid = HexModelGrid((nnodes - 1, 3), spacing=dx, orientation=\"vertical\")\n",
    "\n",
    "# Boundary condition\n",
    "grid.status_at_node[grid.perimeter_nodes] = grid.BC_NODE_IS_CLOSED\n",
    "\n",
    "# create fields\n",
    "elev = grid.add_zeros('topographic__elevation', at='node')\n",
    "\n",
    "# initialize fields\n",
    "step_exists = np.logical_and(\n",
    "    grid.y_of_node >= 0.4,\n",
    "    grid.y_of_node <= 0.6\n",
    ")\n",
    "elev[step_exists] = 1.0\n",
    "\n",
    "# misc\n",
    "midrow = np.logical_and(grid.x_of_node > 0.5 * dx, grid.x_of_node < dx)\n",
    "x = grid.y_of_node[midrow]\n",
    "flux_at_link = np.zeros(grid.number_of_links)\n",
    "\n",
    "# for setup of link connectivity\n",
    "uwll = find_upwind_link_at_link(grid, c)\n"
   ]
  },
  {
   "cell_type": "code",
   "execution_count": null,
   "id": "6da70a56",
   "metadata": {},
   "outputs": [],
   "source": [
    "# note: factor of 1.5 corrects for lack of flux through angling faces\n",
    "plt.plot(x, elev[midrow])\n",
    "for i in range(ntimesteps):\n",
    "    \n",
    "    elev_link_low = map_value_to_links_linear_upwind(grid, elev, c)\n",
    "    elev_link_high = map_value_to_links_lax_wendroff(grid, elev, c)\n",
    "    r, _, _, _ = upwind_to_local_grad_ratio(grid, elev, c, uwll)\n",
    "    psi = flux_lim_vanleer(r)\n",
    "    elev_at_link = psi * elev_link_high + (1.0 - psi) * elev_link_low\n",
    "    flux_at_link[grid.active_links] = u * elev_at_link[grid.active_links]\n",
    "    dqdx = grid.calc_flux_div_at_node(flux_at_link)\n",
    "    elev[grid.core_nodes] -= 1.5 * dqdx[grid.core_nodes] * dt\n",
    "    if (i+1)%20==0:\n",
    "        plt.plot(x, elev[midrow])\n",
    "        plt.plot(x, raster_step, 'k:')"
   ]
  },
  {
   "cell_type": "markdown",
   "id": "dafd6d48",
   "metadata": {},
   "source": [
    "### Landlab TVD 2d with raster grid"
   ]
  },
  {
   "cell_type": "code",
   "execution_count": null,
   "id": "3238e9b1",
   "metadata": {},
   "outputs": [],
   "source": [
    "def calc_translation_distance(grid, elev, x0, y0, u, dt, nt):\n",
    "    highest_node = np.argmax(elev)\n",
    "    distance = np.sqrt(\n",
    "        (grid.x_of_node[highest_node] - x0)**2\n",
    "        + (grid.y_of_node[highest_node] - y0)**2\n",
    "    )\n",
    "    print('Velocity magnitude is', u)\n",
    "    print('Duration is', dt * nt)\n",
    "    print('Predicted distance is', u * dt * nt)\n",
    "    print('Modeled distance is', distance)"
   ]
  },
  {
   "cell_type": "code",
   "execution_count": null,
   "id": "32d01989",
   "metadata": {},
   "outputs": [],
   "source": [
    "# Other imports\n",
    "from landlab import imshow_grid"
   ]
  },
  {
   "cell_type": "code",
   "execution_count": null,
   "id": "f7990ab5",
   "metadata": {},
   "outputs": [],
   "source": [
    "def make_gaussian_bump(grid, field, width):\n",
    "    midx = 0.5 * np.amax(grid.x_of_node)\n",
    "    midy = 0.5 * np.amax(grid.y_of_node)\n",
    "    dist_sq = (grid.x_of_node - midx)**2 + (grid.y_of_node - midy)**2\n",
    "    field[:] = np.exp(-0.5 * dist_sq / bump_width)"
   ]
  },
  {
   "cell_type": "code",
   "execution_count": null,
   "id": "fa04e58c",
   "metadata": {},
   "outputs": [],
   "source": [
    "class TVD2dAdvector():\n",
    "    \n",
    "    def __init__(\n",
    "        self,\n",
    "        grid,\n",
    "    ):\n",
    "        self.grid = grid\n",
    "        \n",
    "        # Grab input fields\n",
    "        self.elev = self.grid.at_node['topographic__elevation']\n",
    "        self.vel = self.grid.at_link['advection__velocity']\n",
    "\n",
    "        # Create output fields\n",
    "        try:\n",
    "            self.flux_at_link = self.grid.at_link['advection__flux']\n",
    "        except KeyError:\n",
    "            self.flux_at_link = self.grid.add_zeros('advection__flux', at='link')\n",
    "\n",
    "        # for setup of link connectivity\n",
    "        self.uwll = find_upwind_link_at_link(grid, vel)\n",
    "\n",
    "        # misc\n",
    "        self.elev0 = self.elev.copy()\n",
    "        \n",
    "    def calc_rate_of_change_at_nodes(self):\n",
    "        elev_link_low = map_value_to_links_linear_upwind(self.grid, self.elev, self.vel)\n",
    "        elev_link_high = map_value_to_links_lax_wendroff(self.grid, self.elev, self.vel)\n",
    "        r, _, _, _ = upwind_to_local_grad_ratio(self.grid, self.elev, self.vel, self.uwll)\n",
    "        psi = flux_lim_vanleer(r)\n",
    "        elev_at_link = psi * elev_link_high + (1.0 - psi) * elev_link_low\n",
    "        self.flux_at_link[self.grid.active_links] = (\n",
    "            self.vel[self.grid.active_links] * elev_at_link[self.grid.active_links]\n",
    "        )\n",
    "        return -self.grid.calc_flux_div_at_node(self.flux_at_link)\n",
    "\n",
    "    def update(self, dt):\n",
    "        roc = self.calc_rate_of_change_at_nodes()\n",
    "        #if isinstance(self.grid, HexModelGrid):\n",
    "        #    plt.figure()\n",
    "        #    imshow_grid(self.grid, roc)\n",
    "        self.elev[self.grid.core_nodes] += roc[self.grid.core_nodes] * dt\n",
    "        \n",
    "    def run_n_steps(self, nsteps, dt):\n",
    "        for i in range(nsteps):\n",
    "            self.update(dt)\n"
   ]
  },
  {
   "cell_type": "code",
   "execution_count": null,
   "id": "8ca7c342",
   "metadata": {},
   "outputs": [],
   "source": [
    "# Parameters\n",
    "nrows = 100\n",
    "ncols = 100\n",
    "ux = 1.0\n",
    "uy = 0.0\n",
    "c = 0.2\n",
    "nnodes = 100\n",
    "ntimesteps = 100\n",
    "bump_width = 0.01  # width of Gaussian bump"
   ]
  },
  {
   "cell_type": "code",
   "execution_count": null,
   "id": "67a063ce",
   "metadata": {},
   "outputs": [],
   "source": [
    "# Setup\n",
    "dx = 1.0 / (max(nrows, ncols) - 1)\n",
    "dt = c * dx / max(ux, uy)\n",
    "\n",
    "# create grid\n",
    "grid = RasterModelGrid((nrows, ncols), xy_spacing=dx)\n",
    "\n",
    "# Boundary condition\n",
    "grid.status_at_node[grid.perimeter_nodes] = grid.BC_NODE_IS_CLOSED\n",
    "\n",
    "# create fields\n",
    "elev = grid.add_zeros('topographic__elevation', at='node')\n",
    "vel = grid.add_zeros('advection__velocity', at='link')\n",
    "\n",
    "# initialize fields\n",
    "make_gaussian_bump(grid, elev, bump_width)\n",
    "print('coords of max point:')\n",
    "maxnode = np.argmax(elev)\n",
    "x0 = grid.x_of_node[maxnode]\n",
    "y0 = grid.y_of_node[maxnode]\n",
    "print(x0, y0)\n",
    "vel[grid.horizontal_links] = ux\n",
    "vel[grid.vertical_links] = uy\n",
    "\n",
    "adv = TVD2dAdvector(grid)\n",
    "adv.run_n_steps(ntimesteps, dt)\n",
    "print('coords of max point:')\n",
    "maxnode = np.argmax(elev)\n",
    "x = grid.x_of_node[maxnode]\n",
    "y = grid.y_of_node[maxnode]\n",
    "print(x, y)\n",
    "print('Distance:', np.sqrt((x-x0)**2 + (y-y0)**2))\n",
    "\n",
    "imshow_grid(adv.grid, adv.elev)"
   ]
  },
  {
   "cell_type": "code",
   "execution_count": null,
   "id": "23e4ccf3",
   "metadata": {},
   "outputs": [],
   "source": [
    "calc_translation_distance(grid, elev, x0, y0, np.sqrt(ux*ux + uy*uy), dt, ntimesteps)"
   ]
  },
  {
   "cell_type": "code",
   "execution_count": null,
   "id": "55d39361",
   "metadata": {},
   "outputs": [],
   "source": [
    "# Re-initialize and run again, this time with y-directed motion\n",
    "ux = 0.0\n",
    "uy = 1.0\n",
    "\n",
    "make_gaussian_bump(grid, elev, bump_width)\n",
    "maxnode = np.argmax(elev)\n",
    "x0 = grid.x_of_node[maxnode]\n",
    "y0 = grid.y_of_node[maxnode]\n",
    "vel[grid.horizontal_links] = ux\n",
    "vel[grid.vertical_links] = uy\n",
    "\n",
    "adv = TVD2dAdvector(grid)\n",
    "adv.run_n_steps(ntimesteps, dt)\n",
    "imshow_grid(grid, elev)"
   ]
  },
  {
   "cell_type": "code",
   "execution_count": null,
   "id": "062e6203",
   "metadata": {},
   "outputs": [],
   "source": [
    "calc_translation_distance(grid, elev, x0, y0, np.sqrt(ux*ux + uy*uy), dt, ntimesteps)"
   ]
  },
  {
   "cell_type": "code",
   "execution_count": null,
   "id": "a1b0d93c",
   "metadata": {},
   "outputs": [],
   "source": [
    "# Re-initialize and run again, this time with anti-x-directed motion\n",
    "ux = -1.0\n",
    "uy = 0.0\n",
    "\n",
    "make_gaussian_bump(grid, elev, bump_width)\n",
    "maxnode = np.argmax(elev)\n",
    "x0 = grid.x_of_node[maxnode]\n",
    "y0 = grid.y_of_node[maxnode]\n",
    "vel[grid.horizontal_links] = ux\n",
    "vel[grid.vertical_links] = uy\n",
    "\n",
    "adv = TVD2dAdvector(grid)\n",
    "adv.run_n_steps(ntimesteps, dt)\n",
    "imshow_grid(grid, elev)"
   ]
  },
  {
   "cell_type": "code",
   "execution_count": null,
   "id": "13cde601",
   "metadata": {},
   "outputs": [],
   "source": [
    "calc_translation_distance(grid, elev, x0, y0, np.sqrt(ux*ux + uy*uy), dt, ntimesteps)"
   ]
  },
  {
   "cell_type": "code",
   "execution_count": null,
   "id": "fa545252",
   "metadata": {},
   "outputs": [],
   "source": [
    "# Re-initialize and run again, this time with anti-y-directed motion\n",
    "ux = 0.0\n",
    "uy = -1.0\n",
    "\n",
    "make_gaussian_bump(grid, elev, bump_width)\n",
    "maxnode = np.argmax(elev)\n",
    "x0 = grid.x_of_node[maxnode]\n",
    "y0 = grid.y_of_node[maxnode]\n",
    "vel[grid.horizontal_links] = ux\n",
    "vel[grid.vertical_links] = uy\n",
    "\n",
    "adv = TVD2dAdvector(grid)\n",
    "adv.run_n_steps(ntimesteps, dt)\n",
    "imshow_grid(grid, elev)"
   ]
  },
  {
   "cell_type": "code",
   "execution_count": null,
   "id": "1381a45c",
   "metadata": {},
   "outputs": [],
   "source": [
    "calc_translation_distance(grid, elev, x0, y0, np.sqrt(ux*ux + uy*uy), dt, ntimesteps)"
   ]
  },
  {
   "cell_type": "markdown",
   "id": "48913df9",
   "metadata": {},
   "source": [
    "### Landlab TVD 2d with hex grid"
   ]
  },
  {
   "cell_type": "markdown",
   "id": "4e2cb912",
   "metadata": {},
   "source": [
    "#### Geometry\n",
    "\n",
    "Let there be a vector field $\\mathbf{u} = (u_x, u_y)$ defined on links, representing the advection speed. We need to map the vector components onto the links, so that the advection speed at each link is projected onto the link's direction. Here's my pieced-together understanding. We want the length of the projection of $\\mathbf{u}$ onto the link. Wikipedia provides this illustration of vector projection:"
   ]
  },
  {
   "cell_type": "markdown",
   "id": "67ba5c7c",
   "metadata": {},
   "source": [
    "For our purposes, $\\mathbf{a}$ is $\\mathbf{u}$ (our advection vector), and $a_1$ represents the projection of that onto a link $b$. So we want $a_1$. The formula is\n",
    "\n",
    "$$a_1 = ||\\mathbf{a}|| \\cos\\theta$$,\n",
    "\n",
    "where $\\theta$ is the angle between (in our case) the advection direction and the link direction. Let's try a few examples. First, for convenience we'll say that the magnitude $||\\mathbf{a}|| = 1$. Imagine we have a horizontal link, $\\theta_l = 0$. Let's see what happens as we rotate the vector field around the circle (counter-clockwise?) in increments of 24 degrees:"
   ]
  },
  {
   "cell_type": "code",
   "execution_count": null,
   "id": "1a6d733d",
   "metadata": {},
   "outputs": [],
   "source": [
    "print('Angle, Projected magnitude')\n",
    "for theta_adv in range(0, 361, 24):\n",
    "    a1 = np.cos(np.radians(theta_adv))\n",
    "    print(theta_adv, a1)"
   ]
  },
  {
   "cell_type": "markdown",
   "id": "fead3e01",
   "metadata": {},
   "source": [
    "That looks right: the projection onto a horizontal (east-directed) link becomes negative when the advection direction is between 90 and 270 degrees. It approaches 1 at 180 degrees.\n",
    "\n",
    "Let's see what happens for the other link orientations:"
   ]
  },
  {
   "cell_type": "code",
   "execution_count": null,
   "id": "8008c240",
   "metadata": {},
   "outputs": [],
   "source": [
    "for link_angle in [30, 60, 90, 120, -30]:\n",
    "    print('\\n')\n",
    "    print('Link angle =', link_angle)\n",
    "    for theta_adv in range(0, 361, 24):\n",
    "        theta = theta_adv - link_angle\n",
    "        a1 = np.cos(np.radians(theta))\n",
    "        print(theta_adv, a1)"
   ]
  },
  {
   "cell_type": "markdown",
   "id": "8c26b8e2",
   "metadata": {},
   "source": [
    "This all looks right, and implies that the operation is mathematically pretty simple, as expressed in the below function:"
   ]
  },
  {
   "cell_type": "code",
   "execution_count": null,
   "id": "85780b0d",
   "metadata": {},
   "outputs": [],
   "source": [
    "def cartesian_to_polar(x, y):\n",
    "    \"\"\"Convert 2d cartesian coordinates (x, y) into polar coordinates (r, theta)\"\"\"\n",
    "    r = np.sqrt(x**2 + y**2)\n",
    "    theta = np.arctan2(y, x)\n",
    "    return(r, theta)\n",
    "\n",
    "def map_vectors_to_links(grid, ux, uy, out=None):\n",
    "    \"\"\"Map magnitude and sign of vectors with components (ux, uy) onto grid links\"\"\"\n",
    "    if out is None:\n",
    "        out = np.zeros(grid.number_of_links)\n",
    "    u, theta_u = cartesian_to_polar(ux, uy)\n",
    "    theta = theta_u - grid.angle_of_link\n",
    "    out[:] = u * np.cos(theta)\n",
    "    return out\n",
    "\n",
    "#TODO: add tests\n",
    "from numpy.testing import assert_array_almost_equal\n",
    "C30 = np.cos(np.radians(30))\n",
    "\n",
    "hmg = HexModelGrid((3, 2))\n",
    "link_vecs = map_vectors_to_links(hmg, 1.0, 0.0)\n",
    "expected = np.array([1.0, -0.5, 0.5, -0.5, 0.5, 1.0, 1.0, 0.5, -0.5, 0.5, -0.5, 1.0])\n",
    "assert_array_almost_equal(link_vecs, expected)\n",
    "\n",
    "link_vecs = map_vectors_to_links(hmg, 0.0, 1.0)\n",
    "expected = np.array([0.0, C30, C30, C30, C30, 0.0, 0.0, C30, C30, C30, C30, 0.0])\n",
    "assert_array_almost_equal(link_vecs, expected)\n",
    "\n",
    "hmg = HexModelGrid((2, 3), orientation=\"vertical\")\n",
    "link_vecs = map_vectors_to_links(hmg, 1.0, 0.0)\n",
    "expected = np.array([C30, C30, 0.0, C30, C30, 0.0, 0.0, C30, C30, 0.0, C30, C30])\n",
    "assert_array_almost_equal(link_vecs, expected)\n",
    "\n",
    "link_vecs = map_vectors_to_links(hmg, 0.0, 1.0)\n",
    "expected = np.array([-0.5, 0.5, 1.0, 0.5, -0.5, 1.0, 1.0, -0.5, 0.5, 1.0, 0.5, -0.5])\n",
    "assert_array_almost_equal(link_vecs, expected)\n"
   ]
  },
  {
   "cell_type": "markdown",
   "id": "ab384bcf",
   "metadata": {},
   "source": [
    "#### Case of right-ward motion"
   ]
  },
  {
   "cell_type": "code",
   "execution_count": null,
   "id": "10c88d33",
   "metadata": {},
   "outputs": [],
   "source": [
    "# Parameters\n",
    "ux = 1.0\n",
    "uy = 0.0\n",
    "ncols = 50\n",
    "nrows = int(ncols / (0.5 * 3.0**0.5))\n",
    "ntimesteps = 50\n",
    "\n",
    "# Setup\n",
    "dx = 1.0 / (max(nrows, ncols) - 1)\n",
    "dt = c * dx / max(ux, uy)\n",
    "\n",
    "# create grid\n",
    "grid = HexModelGrid((nrows, ncols), spacing=dx, node_layout=\"rect\")\n",
    "\n",
    "# Boundary condition\n",
    "grid.status_at_node[grid.perimeter_nodes] = grid.BC_NODE_IS_CLOSED\n",
    "\n",
    "# create fields\n",
    "elev = grid.add_zeros('topographic__elevation', at='node')\n",
    "vel = grid.add_zeros('advection__velocity', at='link')\n",
    "\n",
    "# initialize fields\n",
    "make_gaussian_bump(grid, elev, bump_width)\n",
    "maxnode = np.argmax(elev)\n",
    "x0 = grid.x_of_node[maxnode]\n",
    "y0 = grid.y_of_node[maxnode]\n",
    "map_vectors_to_links(grid, ux, uy, out=vel)\n",
    "\n",
    "adv = TVD2dAdvector(grid)\n",
    "adv.run_n_steps(ntimesteps, dt)\n",
    "imshow_grid(adv.grid, adv.elev)"
   ]
  },
  {
   "cell_type": "code",
   "execution_count": null,
   "id": "91cbb6a5",
   "metadata": {},
   "outputs": [],
   "source": [
    "calc_translation_distance(grid, elev, x0, y0, np.sqrt(ux*ux + uy*uy), dt, ntimesteps)"
   ]
  },
  {
   "cell_type": "markdown",
   "id": "14c7043b",
   "metadata": {},
   "source": [
    "#### Diagnosing the weirdness along the strip...\n",
    "\n",
    "...when you have 100 rows and 100 columns.\n",
    "\n",
    "Turns out to be a bug in Landlab grid setup; issue posted.\n",
    "\n",
    "Code below probes it. Analysis and testing continued after this section."
   ]
  },
  {
   "cell_type": "code",
   "execution_count": null,
   "id": "d25302f1",
   "metadata": {
    "scrolled": false
   },
   "outputs": [],
   "source": [
    "np.where(elev < -1.0)"
   ]
  },
  {
   "cell_type": "code",
   "execution_count": null,
   "id": "deb1cbc0",
   "metadata": {},
   "outputs": [],
   "source": [
    "elev[2230:2240]"
   ]
  },
  {
   "cell_type": "code",
   "execution_count": null,
   "id": "c52223b5",
   "metadata": {},
   "outputs": [],
   "source": [
    "thecell = grid.cell_at_node[2234]\n",
    "grid.faces_at_cell[thecell]"
   ]
  },
  {
   "cell_type": "code",
   "execution_count": null,
   "id": "a9d30c87",
   "metadata": {},
   "outputs": [],
   "source": [
    "grid.link_at_face[grid.faces_at_cell[thecell]]"
   ]
  },
  {
   "cell_type": "code",
   "execution_count": null,
   "id": "ef893c5f",
   "metadata": {},
   "outputs": [],
   "source": [
    "grid.links_at_node[2234]"
   ]
  },
  {
   "cell_type": "code",
   "execution_count": null,
   "id": "94986568",
   "metadata": {},
   "outputs": [],
   "source": [
    "def id_mismatched_faces_and_links(grid):\n",
    "    for n in grid.core_nodes:\n",
    "        c = grid.cell_at_node[n]\n",
    "        laf = grid.link_at_face[grid.faces_at_cell[c]]\n",
    "        lan = grid.links_at_node[n]\n",
    "        if laf[0] != lan[0]:\n",
    "            print('Node', n)\n",
    "            print('Links at node:', lan)\n",
    "            print('Links at faces at cell:', laf)"
   ]
  },
  {
   "cell_type": "code",
   "execution_count": null,
   "id": "096d02ff",
   "metadata": {},
   "outputs": [],
   "source": [
    "id_mismatched_faces_and_links(grid)"
   ]
  },
  {
   "cell_type": "code",
   "execution_count": null,
   "id": "69f78277",
   "metadata": {},
   "outputs": [],
   "source": [
    "def repair_faces(grid):\n",
    "    all_fac = grid.faces_at_cell.copy()\n",
    "    for n in grid.core_nodes:\n",
    "        c = grid.cell_at_node[n]\n",
    "        fac = all_fac[c]\n",
    "        laf = grid.link_at_face[fac]\n",
    "        lan = grid.links_at_node[n]\n",
    "        if laf[0] != lan[0]:\n",
    "            all_fac[c,:] = np.roll(fac, 1)\n",
    "    grid.faces_at_cell = all_fac"
   ]
  },
  {
   "cell_type": "code",
   "execution_count": null,
   "id": "cf6e21fe",
   "metadata": {},
   "outputs": [],
   "source": [
    "## BELOW IS WHERE I AM. NEED TO FIX THE MIS-MATCH IN HEXGRID, PATCH WON'T WORK."
   ]
  },
  {
   "cell_type": "code",
   "execution_count": null,
   "id": "8b6c681b",
   "metadata": {},
   "outputs": [],
   "source": [
    "#repair_faces(grid)\n",
    "id_mismatched_faces_and_links(grid)"
   ]
  },
  {
   "cell_type": "code",
   "execution_count": null,
   "id": "681a5986",
   "metadata": {},
   "outputs": [],
   "source": [
    "imshow_grid(grid, elev - adv.elev0)"
   ]
  },
  {
   "cell_type": "code",
   "execution_count": null,
   "id": "c4d44d67",
   "metadata": {},
   "outputs": [],
   "source": [
    "adv.grid.links_at_node[2230:2238]"
   ]
  },
  {
   "cell_type": "code",
   "execution_count": null,
   "id": "d611321e",
   "metadata": {},
   "outputs": [],
   "source": [
    "vel[adv.grid.links_at_node[2230:2238]]"
   ]
  },
  {
   "cell_type": "code",
   "execution_count": null,
   "id": "efa0a8c1",
   "metadata": {},
   "outputs": [],
   "source": [
    "adv.uwll[adv.grid.links_at_node[2230:2238]]"
   ]
  },
  {
   "cell_type": "code",
   "execution_count": null,
   "id": "bc556655",
   "metadata": {},
   "outputs": [],
   "source": [
    "# minimal example of the link-face mismatch with a HexModelGrid\n",
    "from landlab import HexModelGrid\n",
    "import numpy as np\n",
    "\n",
    "nrows = 25\n",
    "ncols = 25\n",
    "dx = 1.0 / 99\n",
    "\n",
    "def id_mismatched_faces_and_links(grid):\n",
    "    n_mis = 0\n",
    "    for n in grid.core_nodes:\n",
    "        c = grid.cell_at_node[n]\n",
    "        laf = grid.link_at_face[grid.faces_at_cell[c]]\n",
    "        lan = grid.links_at_node[n]\n",
    "        if np.any(laf != lan):\n",
    "            n_mis += 1\n",
    "            print('Node', n)\n",
    "            print('Links at node:', lan)\n",
    "            print('Links at faces at cell:', laf)\n",
    "    print(n_mis, 'mismatches detected.')\n",
    "            \n",
    "grid = HexModelGrid((nrows, ncols), spacing=dx)\n",
    "id_mismatched_faces_and_links(grid)\n"
   ]
  },
  {
   "cell_type": "markdown",
   "id": "acb3f9d0",
   "metadata": {},
   "source": [
    "#### Case of upward (northward) motion"
   ]
  },
  {
   "cell_type": "code",
   "execution_count": null,
   "id": "c2bc75fd",
   "metadata": {},
   "outputs": [],
   "source": [
    "# Parameters\n",
    "ux = 0.0\n",
    "uy = 1.0\n",
    "ntimesteps = 50\n",
    "\n",
    "# Setup\n",
    "dx = 1.0 / (max(nrows, ncols) - 1)\n",
    "dt = c * dx / max(ux, uy)\n",
    "\n",
    "# create grid\n",
    "grid = HexModelGrid((nrows, ncols), spacing=dx, node_layout=\"rect\")\n",
    "\n",
    "# Boundary condition\n",
    "grid.status_at_node[grid.perimeter_nodes] = grid.BC_NODE_IS_CLOSED\n",
    "\n",
    "# create fields\n",
    "elev = grid.add_zeros('topographic__elevation', at='node')\n",
    "vel = grid.add_zeros('advection__velocity', at='link')\n",
    "\n",
    "# initialize fields\n",
    "make_gaussian_bump(grid, elev, bump_width)\n",
    "maxnode = np.argmax(elev)\n",
    "x0 = grid.x_of_node[maxnode]\n",
    "y0 = grid.y_of_node[maxnode]\n",
    "map_vectors_to_links(grid, ux, uy, out=vel)\n",
    "\n",
    "adv = TVD2dAdvector(grid)\n",
    "adv.run_n_steps(ntimesteps, dt)\n",
    "imshow_grid(adv.grid, adv.elev)"
   ]
  },
  {
   "cell_type": "code",
   "execution_count": null,
   "id": "dc88eba8",
   "metadata": {},
   "outputs": [],
   "source": [
    "calc_translation_distance(grid, elev, x0, y0, np.sqrt(ux*ux + uy*uy), dt, ntimesteps)"
   ]
  },
  {
   "cell_type": "code",
   "execution_count": null,
   "id": "970e3c90",
   "metadata": {},
   "outputs": [],
   "source": [
    "# Parameters\n",
    "ux = 0.0\n",
    "uy = 1.0\n",
    "\n",
    "# Setup\n",
    "dx = 1.0 / (max(nrows, ncols) - 1)\n",
    "dt = c * dx / max(ux, uy)\n",
    "\n",
    "# create grid\n",
    "grid = HexModelGrid((nrows, ncols), spacing=dx, node_layout=\"rect\")\n",
    "\n",
    "# Boundary condition\n",
    "grid.status_at_node[grid.perimeter_nodes] = grid.BC_NODE_IS_CLOSED\n",
    "\n",
    "# create fields\n",
    "elev = grid.add_zeros('topographic__elevation', at='node')\n",
    "vel = grid.add_zeros('advection__velocity', at='link')\n",
    "\n",
    "# initialize fields\n",
    "make_gaussian_bump(grid, elev, bump_width)\n",
    "maxnode = np.argmax(elev)\n",
    "x0 = grid.x_of_node[maxnode]\n",
    "y0 = grid.y_of_node[maxnode]\n",
    "map_vectors_to_links(grid, ux, uy, out=vel)\n",
    "\n",
    "adv = TVD2dAdvector(grid)\n",
    "adv.run_n_steps(ntimesteps, dt)\n",
    "imshow_grid(adv.grid, adv.elev)"
   ]
  },
  {
   "cell_type": "code",
   "execution_count": null,
   "id": "d9b46bdd",
   "metadata": {},
   "outputs": [],
   "source": [
    "calc_translation_distance(grid, elev, x0, y0, np.sqrt(ux*ux + uy*uy), dt, ntimesteps)"
   ]
  },
  {
   "cell_type": "markdown",
   "id": "149c5420",
   "metadata": {},
   "source": [
    "#### Case of leftward (westward) motion"
   ]
  },
  {
   "cell_type": "code",
   "execution_count": null,
   "id": "21dbb729",
   "metadata": {},
   "outputs": [],
   "source": [
    "# Parameters\n",
    "ux = -1.0\n",
    "uy = 0.0\n",
    "\n",
    "# Setup\n",
    "dx = 1.0 / (max(nrows, ncols) - 1)\n",
    "dt = c * dx / max(abs(ux), abs(uy))\n",
    "\n",
    "# create grid\n",
    "grid = HexModelGrid((nrows, ncols), spacing=dx, node_layout=\"rect\")\n",
    "\n",
    "# Boundary condition\n",
    "grid.status_at_node[grid.perimeter_nodes] = grid.BC_NODE_IS_CLOSED\n",
    "\n",
    "# create fields\n",
    "elev = grid.add_zeros('topographic__elevation', at='node')\n",
    "vel = grid.add_zeros('advection__velocity', at='link')\n",
    "\n",
    "# initialize fields\n",
    "make_gaussian_bump(grid, elev, bump_width)\n",
    "maxnode = np.argmax(elev)\n",
    "x0 = grid.x_of_node[maxnode]\n",
    "y0 = grid.y_of_node[maxnode]\n",
    "map_vectors_to_links(grid, ux, uy, out=vel)\n",
    "\n",
    "adv = TVD2dAdvector(grid)\n",
    "adv.run_n_steps(ntimesteps, dt)\n",
    "imshow_grid(adv.grid, adv.elev)"
   ]
  },
  {
   "cell_type": "code",
   "execution_count": null,
   "id": "392a7f97",
   "metadata": {},
   "outputs": [],
   "source": [
    "calc_translation_distance(grid, elev, x0, y0, np.sqrt(ux*ux + uy*uy), dt, ntimesteps)"
   ]
  },
  {
   "cell_type": "markdown",
   "id": "70941c61",
   "metadata": {},
   "source": [
    "#### Case of downward (southward) motion"
   ]
  },
  {
   "cell_type": "code",
   "execution_count": null,
   "id": "4c6079b0",
   "metadata": {},
   "outputs": [],
   "source": [
    "# Parameters\n",
    "ux = 0.0\n",
    "uy = -1.0\n",
    "\n",
    "# Setup\n",
    "dx = 1.0 / (max(nrows, ncols) - 1)\n",
    "dt = c * dx / max(abs(ux), abs(uy))\n",
    "\n",
    "# create grid\n",
    "grid = HexModelGrid((nrows, ncols), spacing=dx, node_layout=\"rect\")\n",
    "\n",
    "# Boundary condition\n",
    "grid.status_at_node[grid.perimeter_nodes] = grid.BC_NODE_IS_CLOSED\n",
    "\n",
    "# create fields\n",
    "elev = grid.add_zeros('topographic__elevation', at='node')\n",
    "vel = grid.add_zeros('advection__velocity', at='link')\n",
    "\n",
    "# initialize fields\n",
    "make_gaussian_bump(grid, elev, bump_width)\n",
    "maxnode = np.argmax(elev)\n",
    "x0 = grid.x_of_node[maxnode]\n",
    "y0 = grid.y_of_node[maxnode]\n",
    "map_vectors_to_links(grid, ux, uy, out=vel)\n",
    "\n",
    "adv = TVD2dAdvector(grid)\n",
    "adv.run_n_steps(ntimesteps, dt)\n",
    "imshow_grid(adv.grid, adv.elev)"
   ]
  },
  {
   "cell_type": "code",
   "execution_count": null,
   "id": "1dcd155f",
   "metadata": {},
   "outputs": [],
   "source": [
    "calc_translation_distance(grid, elev, x0, y0, np.sqrt(ux*ux + uy*uy), dt, ntimesteps)"
   ]
  },
  {
   "cell_type": "markdown",
   "id": "467c379d",
   "metadata": {},
   "source": [
    "#### Case of nne motion"
   ]
  },
  {
   "cell_type": "code",
   "execution_count": null,
   "id": "77ea8696",
   "metadata": {},
   "outputs": [],
   "source": [
    "# Parameters\n",
    "ux = np.cos(np.degrees(60))\n",
    "uy = np.sin(np.degrees(60))\n",
    "u = np.sqrt(ux*ux + uy*uy)\n",
    "\n",
    "# Setup\n",
    "dx = 1.0 / (max(nrows, ncols) - 1)\n",
    "dt = c * dx / u\n",
    "\n",
    "# create grid\n",
    "grid = HexModelGrid((nrows, ncols), spacing=dx, node_layout=\"rect\")\n",
    "\n",
    "# Boundary condition\n",
    "grid.status_at_node[grid.perimeter_nodes] = grid.BC_NODE_IS_CLOSED\n",
    "\n",
    "# create fields\n",
    "elev = grid.add_zeros('topographic__elevation', at='node')\n",
    "vel = grid.add_zeros('advection__velocity', at='link')\n",
    "\n",
    "# initialize fields\n",
    "make_gaussian_bump(grid, elev, bump_width)\n",
    "maxnode = np.argmax(elev)\n",
    "x0 = grid.x_of_node[maxnode]\n",
    "y0 = grid.y_of_node[maxnode]\n",
    "map_vectors_to_links(grid, ux, uy, out=vel)\n",
    "\n",
    "adv = TVD2dAdvector(grid)\n",
    "adv.run_n_steps(ntimesteps, dt)\n",
    "imshow_grid(adv.grid, adv.elev)"
   ]
  },
  {
   "cell_type": "code",
   "execution_count": null,
   "id": "903ebc90",
   "metadata": {},
   "outputs": [],
   "source": [
    "calc_translation_distance(grid, elev, x0, y0, np.sqrt(ux*ux + uy*uy), dt, ntimesteps)"
   ]
  },
  {
   "cell_type": "markdown",
   "id": "777c3d0a",
   "metadata": {},
   "source": [
    "#### Case of nnw motion"
   ]
  },
  {
   "cell_type": "code",
   "execution_count": null,
   "id": "5db53dc9",
   "metadata": {},
   "outputs": [],
   "source": [
    "# Parameters\n",
    "ux = -np.cos(np.degrees(60))\n",
    "uy = np.sin(np.degrees(60))\n",
    "u = np.sqrt(ux*ux + uy*uy)\n",
    "\n",
    "# Setup\n",
    "dx = 1.0 / (max(nrows, ncols) - 1)\n",
    "dt = c * dx / u\n",
    "\n",
    "# create grid\n",
    "grid = HexModelGrid((nrows, ncols), spacing=dx, node_layout=\"rect\")\n",
    "\n",
    "# Boundary condition\n",
    "grid.status_at_node[grid.perimeter_nodes] = grid.BC_NODE_IS_CLOSED\n",
    "\n",
    "# create fields\n",
    "elev = grid.add_zeros('topographic__elevation', at='node')\n",
    "vel = grid.add_zeros('advection__velocity', at='link')\n",
    "\n",
    "# initialize fields\n",
    "make_gaussian_bump(grid, elev, bump_width)\n",
    "maxnode = np.argmax(elev)\n",
    "x0 = grid.x_of_node[maxnode]\n",
    "y0 = grid.y_of_node[maxnode]\n",
    "map_vectors_to_links(grid, ux, uy, out=vel)\n",
    "\n",
    "adv = TVD2dAdvector(grid)\n",
    "adv.run_n_steps(ntimesteps, dt)\n",
    "imshow_grid(adv.grid, adv.elev)"
   ]
  },
  {
   "cell_type": "code",
   "execution_count": null,
   "id": "3e817ee1",
   "metadata": {},
   "outputs": [],
   "source": [
    "calc_translation_distance(grid, elev, x0, y0, np.sqrt(ux*ux + uy*uy), dt, ntimesteps)"
   ]
  },
  {
   "cell_type": "markdown",
   "id": "aa835c4c",
   "metadata": {},
   "source": [
    "#### Case of ssw motion"
   ]
  },
  {
   "cell_type": "code",
   "execution_count": null,
   "id": "6e9a668f",
   "metadata": {},
   "outputs": [],
   "source": [
    "# Parameters\n",
    "ux = -np.cos(np.degrees(60))\n",
    "uy = -np.sin(np.degrees(60))\n",
    "u = np.sqrt(ux*ux + uy*uy)\n",
    "\n",
    "# Setup\n",
    "dx = 1.0 / (max(nrows, ncols) - 1)\n",
    "dt = c * dx / u\n",
    "\n",
    "# create grid\n",
    "grid = HexModelGrid((nrows, ncols), spacing=dx, node_layout=\"rect\")\n",
    "\n",
    "# Boundary condition\n",
    "grid.status_at_node[grid.perimeter_nodes] = grid.BC_NODE_IS_CLOSED\n",
    "\n",
    "# create fields\n",
    "elev = grid.add_zeros('topographic__elevation', at='node')\n",
    "vel = grid.add_zeros('advection__velocity', at='link')\n",
    "\n",
    "# initialize fields\n",
    "make_gaussian_bump(grid, elev, bump_width)\n",
    "maxnode = np.argmax(elev)\n",
    "x0 = grid.x_of_node[maxnode]\n",
    "y0 = grid.y_of_node[maxnode]\n",
    "map_vectors_to_links(grid, ux, uy, out=vel)\n",
    "\n",
    "adv = TVD2dAdvector(grid)\n",
    "adv.run_n_steps(ntimesteps, dt)\n",
    "imshow_grid(adv.grid, adv.elev)"
   ]
  },
  {
   "cell_type": "code",
   "execution_count": null,
   "id": "af1b312e",
   "metadata": {},
   "outputs": [],
   "source": [
    "calc_translation_distance(grid, elev, x0, y0, np.sqrt(ux*ux + uy*uy), dt, ntimesteps)"
   ]
  },
  {
   "cell_type": "markdown",
   "id": "fd4283de",
   "metadata": {},
   "source": [
    "#### Case of sse motion"
   ]
  },
  {
   "cell_type": "code",
   "execution_count": null,
   "id": "d6f94b0a",
   "metadata": {
    "scrolled": true
   },
   "outputs": [],
   "source": [
    "# Parameters\n",
    "ux = np.cos(np.degrees(60))\n",
    "uy = -np.sin(np.degrees(60))\n",
    "u = np.sqrt(ux*ux + uy*uy)\n",
    "\n",
    "# Setup\n",
    "dx = 1.0 / (max(nrows, ncols) - 1)\n",
    "dt = c * dx / u\n",
    "\n",
    "# create grid\n",
    "grid = HexModelGrid((nrows, ncols), spacing=dx, node_layout=\"rect\")\n",
    "\n",
    "# Boundary condition\n",
    "grid.status_at_node[grid.perimeter_nodes] = grid.BC_NODE_IS_CLOSED\n",
    "\n",
    "# create fields\n",
    "elev = grid.add_zeros('topographic__elevation', at='node')\n",
    "vel = grid.add_zeros('advection__velocity', at='link')\n",
    "\n",
    "# initialize fields\n",
    "make_gaussian_bump(grid, elev, bump_width)\n",
    "maxnode = np.argmax(elev)\n",
    "x0 = grid.x_of_node[maxnode]\n",
    "y0 = grid.y_of_node[maxnode]\n",
    "map_vectors_to_links(grid, ux, uy, out=vel)\n",
    "\n",
    "adv = TVD2dAdvector(grid)\n",
    "adv.run_n_steps(ntimesteps, dt)\n",
    "imshow_grid(adv.grid, adv.elev)"
   ]
  },
  {
   "cell_type": "code",
   "execution_count": null,
   "id": "559e75eb",
   "metadata": {},
   "outputs": [],
   "source": [
    "calc_translation_distance(grid, elev, x0, y0, np.sqrt(ux*ux + uy*uy), dt, ntimesteps)"
   ]
  },
  {
   "cell_type": "markdown",
   "id": "220c51f6",
   "metadata": {},
   "source": [
    "#### Case with vertically oriented grid, rightward (eastward) motion"
   ]
  },
  {
   "cell_type": "code",
   "execution_count": null,
   "id": "de615c57",
   "metadata": {
    "scrolled": true
   },
   "outputs": [],
   "source": [
    "# Parameters\n",
    "ux = 1.0\n",
    "uy = 0.0\n",
    "u = np.sqrt(ux*ux + uy*uy)\n",
    "nrows = 50\n",
    "ncols = int(nrows / (0.5 * 3.0**0.5))\n",
    "\n",
    "# Setup\n",
    "dx = 1.0 / (max(nrows, ncols) - 1)\n",
    "dt = c * dx / u\n",
    "\n",
    "# create grid\n",
    "grid = HexModelGrid((nrows, ncols), spacing=dx, node_layout=\"rect\", orientation=\"vertical\")\n",
    "\n",
    "# Boundary condition\n",
    "grid.status_at_node[grid.perimeter_nodes] = grid.BC_NODE_IS_CLOSED\n",
    "\n",
    "# create fields\n",
    "elev = grid.add_zeros('topographic__elevation', at='node')\n",
    "vel = grid.add_zeros('advection__velocity', at='link')\n",
    "\n",
    "# initialize fields\n",
    "make_gaussian_bump(grid, elev, bump_width)\n",
    "maxnode = np.argmax(elev)\n",
    "x0 = grid.x_of_node[maxnode]\n",
    "y0 = grid.y_of_node[maxnode]\n",
    "map_vectors_to_links(grid, ux, uy, out=vel)\n",
    "\n",
    "adv = TVD2dAdvector(grid)\n",
    "adv.run_n_steps(ntimesteps, dt)\n",
    "imshow_grid(adv.grid, adv.elev)"
   ]
  },
  {
   "cell_type": "code",
   "execution_count": null,
   "id": "3eea6518",
   "metadata": {},
   "outputs": [],
   "source": [
    "calc_translation_distance(grid, elev, x0, y0, np.sqrt(ux*ux + uy*uy), dt, ntimesteps)"
   ]
  },
  {
   "cell_type": "code",
   "execution_count": null,
   "id": "a29bd8de",
   "metadata": {},
   "outputs": [],
   "source": []
  }
 ],
 "metadata": {
  "kernelspec": {
   "display_name": "Python 3 (ipykernel)",
   "language": "python",
   "name": "python3"
  },
  "language_info": {
   "codemirror_mode": {
    "name": "ipython",
    "version": 3
   },
   "file_extension": ".py",
   "mimetype": "text/x-python",
   "name": "python",
   "nbconvert_exporter": "python",
   "pygments_lexer": "ipython3",
   "version": "3.9.12"
  }
 },
 "nbformat": 4,
 "nbformat_minor": 5
}
