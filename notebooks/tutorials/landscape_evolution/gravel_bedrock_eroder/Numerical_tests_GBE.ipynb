{
 "cells": [
  {
   "cell_type": "markdown",
   "id": "4b0b69bb-5776-499a-86ee-173826771419",
   "metadata": {},
   "source": [
    "# Numerical tests for the Landlab GravelBedrockEroder Component\n",
    "\n",
    "*B.C. Campforts, INSTAAR, University of Colorado Boulder* \\\n",
    "*V. Gabel, CIRES and Department of Geological Sciences, University of Colorado Boulder* \\\n",
    "*G.E. Tucker, CIRES and Department of Geological Sciences, University of Colorado Boulder* \n",
    "\n",
    "This notebook describes a series of experiments to test the `GravelBedrockEroder` component. "
   ]
  },
  {
   "cell_type": "code",
   "execution_count": null,
   "id": "81205fcf-846b-4062-be51-bb4e15123d47",
   "metadata": {},
   "outputs": [],
   "source": [
    "### Imports\n",
    "import numpy as np\n",
    "from numpy.testing import assert_almost_equal\n",
    "from landlab import HexModelGrid\n",
    "from landlab.components import FlowAccumulator, GravelBedrockEroder\n",
    "from landlab.plot import imshow_grid\n",
    "from matplotlib import pyplot as plt"
   ]
  },
  {
   "cell_type": "markdown",
   "id": "d14134c7-7b96-4e8f-a258-5776bf6cb9a1",
   "metadata": {},
   "source": [
    "## 1. Plucking\n",
    "\n",
    "Mathematically, plucking is represented as: \n",
    "\n",
    "$$ E_p = a(\\tau -\\tau_c)^{\\frac{3}{2}} e^{\\frac{-H}{H_*}}$$\n",
    "Following near threshold theory this becomes: \n",
    "$$ E_p = a(\\epsilon\\tau_c)^{\\frac{3}{2}} e^{\\frac{-H}{H_*}}$$\n",
    "\n",
    "$$ E_p = a\\left(\\epsilon\\theta_c(\\sigma -\\rho)gD_{50}\\right)^{\\frac{3}{2}} e^{\\frac{-H}{H_*}}$$\n",
    "\n",
    "From rate into Volume: \n",
    "$$ V_p = E_pbΔx $$\n",
    "where *b* is river width and: \n",
    "$$ b = \\frac{k_wQS^{\\frac{7}{6}}}{D_{50}^{\\frac{3}{2}}}$$\n",
    "\n",
    "$$ V_p = \\frac{a(\\epsilon\\theta_c(\\sigma -\\rho)gD_{50})^{\\frac{3}{2}} e^{\\frac{-H}{H_*}}k_wQS^{\\frac{7}{6}}Δx}{D_{50}^{\\frac{3}{2}}} $$\n",
    "\n",
    "Where $a(\\epsilon\\theta_c(\\sigma -\\rho)g)^{\\frac{3}{2}}k_w$ is a constant *c* and average channel incision rate, corrected for numerical cell width equals:  \n",
    "\n",
    "$$  E̅_p̅ = \\frac{V_p}{Δx^2} = \\frac{cQS^{\\frac{7}{6}}e^{\\frac{-H}{H_*}}}{Δx}$$"
   ]
  },
  {
   "cell_type": "code",
   "execution_count": null,
   "id": "e9131a27-00c8-4cb6-b0f6-642b4f3b2b5d",
   "metadata": {},
   "outputs": [],
   "source": [
    "from landlab import RasterModelGrid\n",
    "from landlab.components import FlowAccumulator\n",
    "\n",
    "nr = 3\n",
    "nc = 10\n",
    "grid = RasterModelGrid((nr, nc), xy_spacing=1000.0)\n",
    "elev = grid.add_zeros(\"topographic__elevation\", at=\"node\")\n",
    "rock_elev = grid.add_zeros(\"bedrock__elevation\", at=\"node\")\n",
    "sed = grid.add_zeros(\"soil__depth\", at=\"node\")\n",
    "sed[grid.core_nodes] = 1\n",
    "grid.set_closed_boundaries_at_grid_edges(True, True, False, True)\n",
    "\n",
    "# grid.status_at_node[grid.perimeter_nodes] = grid.BC_NODE_IS_CLOSED\n",
    "# grid.status_at_node[5] = grid.BC_NODE_IS_FIXED_VALUE\n",
    "fa = FlowAccumulator(grid, runoff_rate=10.0)\n",
    "fa.run_one_step()\n",
    "# TODO Check porosity in deposition (Building walls)\n",
    "eroder = GravelBedrockEroder(\n",
    "    grid, abrasion_coefficient=0, plucking_coefficient=1, sediment_porosity=0\n",
    ")\n",
    "\n",
    "\n",
    "dt = 1000\n",
    "U = 1e-3\n",
    "iterations = int(100)\n",
    "for _ in range(iterations):\n",
    "    rock_elev[grid.core_nodes] += U * dt\n",
    "    elev[grid.core_nodes] += U * dt\n",
    "    fa.run_one_step()\n",
    "    eroder.run_one_step(dt)\n",
    "print(\"Total uplift is %.02f m\" % (iterations * U * dt))\n",
    "plt.plot(grid.x_of_node[nc : nc + nc - 1], elev[nc : nc + nc - 1], label=\"Elevation\")\n",
    "plt.plot(grid.x_of_node[nc : nc + nc - 1], rock_elev[nc : nc + nc - 1], label=\"Bedrock\")\n",
    "plt.plot(grid.x_of_node[nc : nc + nc - 1], sed[nc : nc + nc - 1], label=\"soil\")\n",
    "plt.legend()\n",
    "\n",
    "plt.figure()\n",
    "imshow_grid(grid, \"soil__depth\", plot_name=\"soil__depth\", color_for_closed=\"red\")\n",
    "plt.show()\n",
    "plt.figure()\n",
    "imshow_grid(grid, \"bedrock__elevation\", plot_name=\"bedrock__elevation\")\n",
    "plt.show()\n",
    "plt.figure()\n",
    "imshow_grid(grid, \"topographic__elevation\", plot_name=\"topographic__elevation\")\n",
    "plt.show()"
   ]
  },
  {
   "cell_type": "code",
   "execution_count": null,
   "id": "3e14956c-01cb-4928-bb4b-2b84e95b83aa",
   "metadata": {},
   "outputs": [],
   "source": [
    "grid.x_of_node[nc : nc + nc + 1]"
   ]
  },
  {
   "cell_type": "code",
   "execution_count": null,
   "id": "2a016aad-3485-4109-92e8-aff097318e53",
   "metadata": {},
   "outputs": [],
   "source": [
    "GravelBedrockEroder"
   ]
  }
 ],
 "metadata": {
  "kernelspec": {
   "display_name": "Python 3 (ipykernel)",
   "language": "python",
   "name": "python3"
  },
  "language_info": {
   "codemirror_mode": {
    "name": "ipython",
    "version": 3
   },
   "file_extension": ".py",
   "mimetype": "text/x-python",
   "name": "python",
   "nbconvert_exporter": "python",
   "pygments_lexer": "ipython3",
   "version": "3.10.4"
  }
 },
 "nbformat": 4,
 "nbformat_minor": 5
}
