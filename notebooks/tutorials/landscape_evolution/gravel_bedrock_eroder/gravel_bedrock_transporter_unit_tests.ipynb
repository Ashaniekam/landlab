{
 "cells": [
  {
   "cell_type": "markdown",
   "id": "threaded-aircraft",
   "metadata": {},
   "source": [
    "# Unit Tests for the Landlab GravelBedrockEroder Component\n",
    "\n",
    "*G.E. Tucker, CIRES and Department of Geological Sciences, University of Colorado Boulder*\n",
    "\n",
    "This notebook describes a series of basic unit tests for the `GravelBedrockEroder` component. These tests are implemented in the file `test_gravel_bedrock_eroder.py`, and are in addition to the unit tests implemented as doctests in the source code."
   ]
  },
  {
   "cell_type": "markdown",
   "id": "sudden-singles",
   "metadata": {},
   "source": [
    "## Types of test\n",
    "\n",
    "The theory starts with a representation of a layer of sediment overlying rock. Each grid cell is assumed to contain a primary channel that drains to an adjacent cell. The cell may also receive inflow of water and sediment from neighboring cells.\n",
    "\n",
    "Processes and effects include:\n",
    "\n",
    "1. Dynamic adjustment of channel width, based on near-threshold theory (implicit in derivation; not calculated explicitly unless requested via function call)\n",
    "2. Transport of coarse (assumed gravel-size) sediment as bed load\n",
    "3. Abrasion of sediment, which turns coarse sediment into wash load (not tracked)\n",
    "4. Abrasion of underlying bedrock\n",
    "5. Plucking erosion of underlying bedrock, which supplies coarse sediment\n",
    "\n",
    "Ideally, each of these elements should be tested, both separately and in combination. Two types of test are used: instantaneous tests, which are \"single iteration\" comparisons between predicted and computed values, and equilibrium tests, in which a small terrain is run with baselevel forcing (\"uplift\") until it reaches an equilibrium that is then compared with an independently calculated solution.\n",
    "\n",
    "In addition, the tests should collectively vary each input parameter from its default value at least once. Input parameters and their defaults include:\n",
    "\n",
    "- intermittency_factor=0.01\n",
    "- transport_coefficient=0.041\n",
    "- abrasion_coefficient=0.0\n",
    "- sediment_porosity=0.35\n",
    "- depth_decay_scale=1.0\n",
    "- plucking_coefficient=1.0e-6\n",
    "- coarse_fraction_from_plucking=1.0\n",
    "\n",
    "Channel width is adequately tested by the doctests, so additional tests of width are not included here."
   ]
  },
  {
   "cell_type": "markdown",
   "id": "f13d1024",
   "metadata": {},
   "source": [
    "## Test setup\n",
    "\n",
    "The doctests in the code use a `RasterModelGrid`. For these external tests, we will use a `HexModelGrid` with three core nodes and a single open boundary node. This configuration is small enough for tests to be quick and efficient, but large enough to include flow convergence (two cells feel flow into a third, which then drains to the open boundary)."
   ]
  },
  {
   "cell_type": "markdown",
   "id": "dda9b283",
   "metadata": {},
   "source": [
    "## Imports"
   ]
  },
  {
   "cell_type": "code",
   "execution_count": null,
   "id": "876a6f51",
   "metadata": {},
   "outputs": [],
   "source": [
    "import numpy as np\n",
    "from numpy.testing import assert_almost_equal\n",
    "from landlab import HexModelGrid\n",
    "from landlab.components import FlowAccumulator, GravelBedrockEroder"
   ]
  },
  {
   "cell_type": "markdown",
   "id": "2d9583cd",
   "metadata": {},
   "source": [
    "## Instantaneous tests\n",
    "\n",
    "### Transport rate\n",
    "\n",
    "**Test condition**: 3-core-node hex grid with gradient of 0.01 along flow paths. Sediment cover: ample (100 m), limited (0.5 m, with depth decay scale also set to 0.5 m), and none.\n",
    "\n",
    "Predicted sediment transport rate under ample cover (not limited by bedrock exposure):\n",
    "\n",
    "$$Q_s = k_Q I Q S^{7/6}$$\n",
    "\n",
    "Here the default value $k_Q=0.041$ is used, but the intermittency factor is set to 0.02. The discharge by default will be one meter per year times drainage area. The drainage area of one cell is the cell's area, here about 866,025 m$^2$, and the drainage area of the cell that receives flow is three times this. Therefore the predicted sediment transport rate for the two \"upstream\" cells and for the single \"downstream\" cell is:"
   ]
  },
  {
   "cell_type": "code",
   "execution_count": null,
   "id": "0ad42760",
   "metadata": {},
   "outputs": [],
   "source": [
    "Q = (3.0**0.5 / 2.0) * 1e6 * np.array([3, 1, 1])\n",
    "Qs = 0.041 * 0.02 * Q * (0.01) ** (7.0 / 6.0)\n",
    "print(\"Predicted transport rate:\", Qs)"
   ]
  },
  {
   "cell_type": "markdown",
   "id": "7c3f0968",
   "metadata": {},
   "source": [
    "For the case with limiting sediment cover, when the cover thickness is equal to the depth decay scale (set to 0.5 m), the transport rate should be reduced by a factor of $1 - 1/e$. This works out to:"
   ]
  },
  {
   "cell_type": "code",
   "execution_count": null,
   "id": "df76860a",
   "metadata": {},
   "outputs": [],
   "source": [
    "print(\"Predicted transport rate:\", Qs * (1.0 - np.exp(-1.0)))"
   ]
  },
  {
   "cell_type": "markdown",
   "id": "3509f826",
   "metadata": {},
   "source": [
    "Finally, with no sediment at all, the transport rate should be zero."
   ]
  },
  {
   "cell_type": "markdown",
   "id": "c7ae7d39",
   "metadata": {},
   "source": [
    "Note that in order to give the grid nodes a gradient of 0.01, the elevations need to rise in the y-direction at a rate equal to 0.01 / cos 30$^\\circ$."
   ]
  },
  {
   "cell_type": "code",
   "execution_count": null,
   "id": "7a1a902b",
   "metadata": {},
   "outputs": [],
   "source": [
    "def test_transport_rate():\n",
    "\n",
    "    grid = HexModelGrid((4, 2), spacing=1000.0)\n",
    "    grid.status_at_node[grid.perimeter_nodes] = grid.BC_NODE_IS_CLOSED\n",
    "    grid.status_at_node[0] = grid.BC_NODE_IS_FIXED_VALUE\n",
    "\n",
    "    elev = grid.add_zeros(\"topographic__elevation\", at=\"node\")\n",
    "    elev[:] = (0.01 * grid.y_of_node) / np.cos(np.radians(30.0))\n",
    "    sed = grid.add_zeros(\"soil__depth\", at=\"node\")\n",
    "    sed[:] = 100.0\n",
    "\n",
    "    fa = FlowAccumulator(grid)\n",
    "    fa.run_one_step()\n",
    "    gbe = GravelBedrockEroder(grid, intermittency_factor=0.02, depth_decay_scale=0.5)\n",
    "    qs_out = grid.at_node[\"bedload_sediment__volume_outflux\"]\n",
    "\n",
    "    gbe.run_one_step(0.0)  # using dt=0 prevents change to sed, rock, or elev\n",
    "    assert_almost_equal(qs_out[grid.core_nodes], [9.88854526, 3.29618175, 3.29618175])\n",
    "\n",
    "    elev[:] = (0.01 * grid.y_of_node) / np.cos(np.radians(30.0))\n",
    "    sed[:] = 0.5\n",
    "\n",
    "    gbe.run_one_step(0.0)\n",
    "    assert_almost_equal(qs_out[grid.core_nodes], [6.25075275, 2.08358425, 2.08358425])\n",
    "\n",
    "    elev[:] = (0.01 * grid.y_of_node) / np.cos(np.radians(30.0))\n",
    "    sed[:] = 0.0\n",
    "\n",
    "    gbe.run_one_step(0.0)\n",
    "    assert_almost_equal(qs_out[grid.core_nodes], [0.0, 0.0, 0.0])"
   ]
  },
  {
   "cell_type": "code",
   "execution_count": null,
   "id": "1c9e3bb5",
   "metadata": {},
   "outputs": [],
   "source": [
    "test_transport_rate()"
   ]
  },
  {
   "cell_type": "markdown",
   "id": "7c43e18e",
   "metadata": {},
   "source": [
    "### Sediment abrasion rate\n",
    "\n",
    "Consider the first of the cases above, in which the transport rate is about 3.3 m$^3$/y for the upstream cells and 9.9 m$^3$/y for the downstream ones. If the abrasion coefficient is 10$^{-4}$ m$^{-1}$, then we can calculate the resulting lowering rate of the thickness of sediment as:\n",
    "\n",
    "$$\\frac{dH}{dt} = -\\beta (Q_{in} + Q_{out}) \\lambda / 2 \\Lambda$$\n",
    "\n",
    "where $\\beta$ is the abrasion coefficient, $Q_s$ is the transport rate (m$^3$/y), $\\lambda$ is the length of the flow path (distance from the node to its downstream neighbor), and $\\Lambda$ is the surface area of the cell.\n",
    "\n",
    "In this case, the numbers are as follows (here sediment flux is half the above case because we are using the default intermittency factor):"
   ]
  },
  {
   "cell_type": "code",
   "execution_count": null,
   "id": "ab279de9",
   "metadata": {},
   "outputs": [],
   "source": [
    "beta = 1.0e-4  # abrasion coefficient, 1/m\n",
    "Qout = 0.5 * 3.29618175  # transport rate, m3/y\n",
    "path_length = 1000.0  # node spacing, m\n",
    "cell_area = 1000.0 * 1000.0 * 0.5 * 3.0**0.5\n",
    "print(\n",
    "    \"Rate of thickness loss from sediment abrasion (upstream):\",\n",
    "    beta * 0.5 * (0.0 + Qout) * path_length / cell_area,\n",
    ")\n",
    "\n",
    "Qin = 2 * Qout\n",
    "Qout = 0.5 * 9.88854526\n",
    "print(\n",
    "    \"Rate of thickness loss from sediment abrasion (downstream):\",\n",
    "    beta * 0.5 * (Qin + Qout) * path_length / cell_area,\n",
    ")"
   ]
  },
  {
   "cell_type": "code",
   "execution_count": null,
   "id": "22e64e13",
   "metadata": {},
   "outputs": [],
   "source": [
    "def test_sediment_abrasion_rate():\n",
    "\n",
    "    grid = HexModelGrid((4, 2), spacing=1000.0)\n",
    "    grid.status_at_node[grid.perimeter_nodes] = grid.BC_NODE_IS_CLOSED\n",
    "    grid.status_at_node[0] = grid.BC_NODE_IS_FIXED_VALUE\n",
    "\n",
    "    elev = grid.add_zeros(\"topographic__elevation\", at=\"node\")\n",
    "    elev[:] = (0.01 * grid.y_of_node) / np.cos(np.radians(30.0))\n",
    "    sed = grid.add_zeros(\"soil__depth\", at=\"node\")\n",
    "    sed[:] = 100.0\n",
    "\n",
    "    fa = FlowAccumulator(grid)\n",
    "    fa.run_one_step()\n",
    "    gbe = GravelBedrockEroder(grid, abrasion_coefficient=1.0e-4)\n",
    "    gbe.run_one_step(1.0)\n",
    "\n",
    "    assert_almost_equal(\n",
    "        gbe._abrasion[grid.core_nodes],\n",
    "        [4.7576285545378313e-07, 9.515257103302159e-08, 9.515257103302159e-08],\n",
    "    )"
   ]
  },
  {
   "cell_type": "code",
   "execution_count": null,
   "id": "723b7b8e",
   "metadata": {},
   "outputs": [],
   "source": [
    "test_sediment_abrasion_rate()"
   ]
  },
  {
   "cell_type": "markdown",
   "id": "0ee479c9",
   "metadata": {},
   "source": [
    "### Bedrock abrasion\n",
    "\n",
    "Here we test the calculation of bedrock abrasion rate. We need a test that has some sediment, but not so much that the bed is totally shielded. We'll use 1 m thick sediment. That reduces the transport capacity, which should be equal to the above transport rates times the fractional alluvial cover, which is 1 minus the bedrock exposure fraction:"
   ]
  },
  {
   "cell_type": "code",
   "execution_count": null,
   "id": "58d13656",
   "metadata": {},
   "outputs": [],
   "source": [
    "beta = 1.0e-4\n",
    "path_length = 1000.0\n",
    "frac_bed_exposed = np.exp(-1.0)\n",
    "cell_area = 1.0e6 * 0.5 * 3.0**0.5\n",
    "Qs_out = (\n",
    "    0.041\n",
    "    * 0.01\n",
    "    * 0.01 ** (7.0 / 6.0)\n",
    "    * cell_area\n",
    "    * np.array([3, 1, 1])\n",
    "    * (1.0 - frac_bed_exposed)\n",
    ")\n",
    "Qs_in = np.array([Qs_out[1] + Qs_out[2], 0.0, 0.0])\n",
    "\n",
    "print(\"Sed outflux:\", Qs_out)\n",
    "print(\"Sed influx:\", Qs_in)\n",
    "\n",
    "sed_abr_rate = beta * 0.5 * (Qs_in + Qs_out) * path_length / cell_area\n",
    "print(\"Sediment abrasion rate:\", sed_abr_rate)\n",
    "\n",
    "rock_abr_rate = sed_abr_rate * frac_bed_exposed\n",
    "print(\"Bed abrasion rate:\", rock_abr_rate)"
   ]
  },
  {
   "cell_type": "code",
   "execution_count": null,
   "id": "c4605b79",
   "metadata": {},
   "outputs": [],
   "source": [
    "def test_rock_abrasion_rate():\n",
    "\n",
    "    grid = HexModelGrid((4, 2), spacing=1000.0)\n",
    "    grid.status_at_node[grid.perimeter_nodes] = grid.BC_NODE_IS_CLOSED\n",
    "    grid.status_at_node[0] = grid.BC_NODE_IS_FIXED_VALUE\n",
    "\n",
    "    elev = grid.add_zeros(\"topographic__elevation\", at=\"node\")\n",
    "    elev[:] = (0.01 * grid.y_of_node) / np.cos(np.radians(30.0))\n",
    "    sed = grid.add_zeros(\"soil__depth\", at=\"node\")\n",
    "    sed[:] = 1.0\n",
    "\n",
    "    fa = FlowAccumulator(grid)\n",
    "    fa.run_one_step()\n",
    "    gbe = GravelBedrockEroder(grid, abrasion_coefficient=1.0e-4)\n",
    "    gbe.run_one_step(1.0)\n",
    "\n",
    "    assert_almost_equal(\n",
    "        gbe._sediment_outflux[grid.core_nodes], [3.12537638, 1.04179213, 1.04179213]\n",
    "    )\n",
    "    assert_almost_equal(\n",
    "        gbe._rock_abrasion_rate[grid.core_nodes],\n",
    "        [1.10635873e-07, 2.21271745e-08, 2.21271745e-08],\n",
    "    )"
   ]
  },
  {
   "cell_type": "code",
   "execution_count": null,
   "id": "6d6c9beb",
   "metadata": {},
   "outputs": [],
   "source": [
    "test_rock_abrasion_rate()"
   ]
  },
  {
   "cell_type": "markdown",
   "id": "82bed1ae-b4bd-4b52-ad46-d3ec01d1f73c",
   "metadata": {},
   "source": [
    "### Plucking erosion\n",
    "\n",
    "Here we test the calculation of bedrock plucking rate. "
   ]
  },
  {
   "cell_type": "code",
   "execution_count": null,
   "id": "54bb1414-d43b-4256-a4d7-acfbb834411d",
   "metadata": {},
   "outputs": [],
   "source": [
    "plucking_coef = 1.0e-6\n",
    "frac_bed_exposed = np.exp(-1.0)\n",
    "Q = (3.0**0.5 / 2.0) * 1e6 * np.array([3, 1, 1])\n",
    "slope = 0.01\n",
    "grid_res = 1000\n",
    "pluck_rate = plucking_coef * Q * slope ** (7.0 / 6.0) * frac_bed_exposed / grid_res\n",
    "print(\"Plucking rate:\", pluck_rate)"
   ]
  },
  {
   "cell_type": "code",
   "execution_count": null,
   "id": "7a7c55a2-a704-49d6-9a7b-5146969f4fb2",
   "metadata": {},
   "outputs": [],
   "source": [
    "def test_rock_plucking_rate():\n",
    "\n",
    "    grid = HexModelGrid((4, 2), spacing=1000.0)\n",
    "    grid.status_at_node[grid.perimeter_nodes] = grid.BC_NODE_IS_CLOSED\n",
    "    grid.status_at_node[0] = grid.BC_NODE_IS_FIXED_VALUE\n",
    "\n",
    "    elev = grid.add_zeros(\"topographic__elevation\", at=\"node\")\n",
    "    elev[:] = (0.01 * grid.y_of_node) / np.cos(np.radians(30.0))\n",
    "    sed = grid.add_zeros(\"soil__depth\", at=\"node\")\n",
    "    sed[:] = 1.0\n",
    "\n",
    "    fa = FlowAccumulator(grid)\n",
    "    fa.run_one_step()\n",
    "    gbe = GravelBedrockEroder(grid, plucking_coefficient=1.0e-6)\n",
    "    gbe.run_one_step(1.0)\n",
    "\n",
    "    assert_almost_equal(\n",
    "        gbe._pluck_rate[grid.core_nodes],\n",
    "        [4.43633232e-06, 1.47877744e-06, 1.47877744e-06],\n",
    "    )"
   ]
  },
  {
   "cell_type": "code",
   "execution_count": null,
   "id": "c8f1a86b-a694-48d8-90ad-41eb434f5851",
   "metadata": {},
   "outputs": [],
   "source": [
    "test_rock_plucking_rate()"
   ]
  },
  {
   "cell_type": "markdown",
   "id": "149bbbaf",
   "metadata": {},
   "source": [
    "## References and further reading\n",
    "\n",
    "Attal, M., & Lavé, J. (2006). Changes of bedload characteristics along the Marsyandi River (central Nepal): Implications for understanding hillslope sediment supply, sediment load evolution along fluvial networks, and denudation in active orogenic belts. Geol. Soc. Am. Spec. Pap, 398, 143-171.\n",
    "\n",
    "Attal, M., & Lavé, J. (2009). Pebble abrasion during fluvial transport: Experimental results and implications for the evolution of the sediment load along rivers. Journal of Geophysical Research: Earth Surface, 114(F4).\n",
    "\n",
    "Grant, G. E. (1997). Critical flow constrains flow hydraulics in mobile‐bed streams: A new hypothesis. Water Resources Research, 33(2), 349-358.\n",
    "\n",
    "Meyer-Peter, E., & Müller, R. (1948). Formulas for bed-load transport. In IAHSR 2nd meeting, Stockholm, appendix 2. IAHR.\n",
    "\n",
    "Parker, G. (1978). Self-formed straight rivers with equilibrium banks and mobile bed. Part 2. The gravel river. Journal of Fluid mechanics, 89(1), 127-146.\n",
    "\n",
    "Phillips, C. B., & Jerolmack, D. J. (2016). Self-organization of river channels as a critical filter on climate signals. Science, 352(6286), 694-697.\n",
    "\n",
    "Wickert, A. D., & Schildgen, T. F. (2019). Long-profile evolution of transport-limited gravel-bed rivers. Earth Surface Dynamics, 7(1), 17-43.\n",
    "\n",
    "Willgoose, G., Bras, R. L., & Rodriguez‐Iturbe, I. (1991). A physical explanation of an observed link area‐slope relationship. Water Resources Research, 27(7), 1697-1702.\n",
    "\n",
    "Willgoose, G. (1994). A physical explanation for an observed area‐slope‐elevation relationship for catchments with declining relief. Water Resources Research, 30(2), 151-159.\n",
    "\n",
    "Wong, M., & Parker, G. (2006). Reanalysis and correction of bed-load relation of Meyer-Peter and Müller using their own database. Journal of Hydraulic Engineering, 132(11), 1159-1168."
   ]
  }
 ],
 "metadata": {
  "kernelspec": {
   "display_name": "Python 3 (ipykernel)",
   "language": "python",
   "name": "python3"
  },
  "language_info": {
   "codemirror_mode": {
    "name": "ipython",
    "version": 3
   },
   "file_extension": ".py",
   "mimetype": "text/x-python",
   "name": "python",
   "nbconvert_exporter": "python",
   "pygments_lexer": "ipython3",
   "version": "3.10.4"
  }
 },
 "nbformat": 4,
 "nbformat_minor": 5
}
