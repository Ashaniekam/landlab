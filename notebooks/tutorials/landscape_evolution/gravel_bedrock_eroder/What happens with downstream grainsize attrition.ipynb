{
 "cells": [
  {
   "cell_type": "markdown",
   "id": "b6bfa3a9",
   "metadata": {},
   "source": [
    "# Case 1: uniform abrasion"
   ]
  },
  {
   "cell_type": "code",
   "execution_count": null,
   "id": "9234da4e",
   "metadata": {},
   "outputs": [],
   "source": [
    "import numpy as np\n",
    "from matplotlib import pyplot as plt\n",
    "import random\n",
    "\n",
    "ini_particles = 10000\n",
    "P_absrasion = 0.01\n",
    "nb_cells = 600\n",
    "distance = np.linspace(0,nb_cells-1,nb_cells)\n",
    "abrasion_change_particles = np.ones(ini_particles)*P_absrasion\n",
    "\n",
    "nb_particles = np.zeros_like(distance)\n",
    "nb_particles[0] = ini_particles\n",
    "\n",
    "for ind in range(nb_cells):\n",
    "    if ind < nb_cells-1:\n",
    "        to_remove = np.where(np.random.rand(len(abrasion_change_particles))<abrasion_change_particles)        \n",
    "        abrasion_change_particles = np.delete(abrasion_change_particles,to_remove)\n",
    "        nb_particles[ind+1] = len(abrasion_change_particles)\n",
    "\n",
    "plt.plot(distance, nb_particles)\n",
    "plt.xlabel('Distance downstream')\n",
    "plt.ylabel('Nb of particles')\n"
   ]
  },
  {
   "cell_type": "markdown",
   "id": "bc2dd260",
   "metadata": {},
   "source": [
    "# Case 2: variable abrasion"
   ]
  },
  {
   "cell_type": "code",
   "execution_count": null,
   "id": "a836696d",
   "metadata": {},
   "outputs": [],
   "source": [
    "\n",
    "distance = np.linspace(0,nb_cells-1,nb_cells)\n",
    "rand_values = np.random.rand(ini_particles)*P_absrasion*2\n",
    "abrasion_change_particles = rand_values\n",
    "print(np.mean(abrasion_change_particles))\n",
    "\n",
    "nb_particles_case2 = np.zeros_like(distance)\n",
    "nb_particles_case2[0] = ini_particles\n",
    "\n",
    "mean_probability = np.zeros_like(distance)\n",
    "mean_probability[0] = np.mean(abrasion_change_particles)\n",
    "\n",
    "for ind in range(nb_cells):\n",
    "    if ind < nb_cells-1:\n",
    "        \n",
    "        to_remove = np.where(np.random.rand(len(abrasion_change_particles))<abrasion_change_particles)        \n",
    "        abrasion_change_particles = np.delete(abrasion_change_particles,to_remove)\n",
    "        nb_particles_case2[ind+1] = len(abrasion_change_particles)\n",
    "        mean_probability[ind+1] = np.mean(abrasion_change_particles)\n",
    "        \n",
    "        #Plotting\n",
    "#         if np.mod(ind,20)==0:\n",
    "#             plt.hist(abrasion_change_particles, range=[0, .1])\n",
    "#             plt.title(ind)\n",
    "#             plt.show()\n",
    "        \n",
    "\n",
    "\n",
    "\n",
    "plt.plot(distance, nb_particles_case2)\n",
    "plt.xlabel('Distance downstream')\n",
    "plt.ylabel('Nb of particles')"
   ]
  },
  {
   "cell_type": "markdown",
   "id": "e9bc35e0",
   "metadata": {},
   "source": [
    "# Plot combined "
   ]
  },
  {
   "cell_type": "code",
   "execution_count": null,
   "id": "7d171ae2",
   "metadata": {},
   "outputs": [],
   "source": [
    "plt.plot(distance, mean_probability)\n",
    "plt.yscale('log')\n",
    "plt.xlabel('Distance downstream')\n",
    "plt.ylabel('mean_probability')\n",
    "\n",
    "\n",
    "plt.figure()\n",
    "plt.plot(distance, nb_particles_case2, label = 'Non-Uniform')\n",
    "plt.plot(distance, nb_particles, label = 'Uniform')\n",
    "plt.xlabel('Distance downstream')\n",
    "plt.ylabel('Nb of particles')\n",
    "# plt.xscale('log')\n",
    "plt.yscale('log')\n",
    "plt.legend()"
   ]
  },
  {
   "cell_type": "code",
   "execution_count": null,
   "id": "3982214c",
   "metadata": {},
   "outputs": [],
   "source": []
  }
 ],
 "metadata": {
  "kernelspec": {
   "display_name": "Python 3 (ipykernel)",
   "language": "python",
   "name": "python3"
  },
  "language_info": {
   "codemirror_mode": {
    "name": "ipython",
    "version": 3
   },
   "file_extension": ".py",
   "mimetype": "text/x-python",
   "name": "python",
   "nbconvert_exporter": "python",
   "pygments_lexer": "ipython3",
   "version": "3.10.8"
  }
 },
 "nbformat": 4,
 "nbformat_minor": 5
}
