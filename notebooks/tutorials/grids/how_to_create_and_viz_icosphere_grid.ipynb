{
 "cells": [
  {
   "cell_type": "markdown",
   "id": "04a8805a",
   "metadata": {},
   "source": [
    "# How to create and visualize a Landlab Icosphere Grid\n",
    "\n",
    "*(GE Tucker, CU Boulder, November 2023)*\n",
    "\n",
    "This notebook demonstrates how to create a spherical `IcosphereGlobalGrid`, and to visualize its geometric elements and related fields."
   ]
  },
  {
   "cell_type": "code",
   "execution_count": 1,
   "id": "6b881549",
   "metadata": {},
   "outputs": [],
   "source": [
    "import numpy as np\n",
    "import matplotlib.pyplot as plt\n",
    "from landlab import IcosphereGlobalGrid"
   ]
  },
  {
   "cell_type": "code",
   "execution_count": null,
   "id": "59ffa6fe",
   "metadata": {},
   "outputs": [],
   "source": []
  }
 ],
 "metadata": {
  "kernelspec": {
   "display_name": "Python 3 (ipykernel)",
   "language": "python",
   "name": "python3"
  },
  "language_info": {
   "codemirror_mode": {
    "name": "ipython",
    "version": 3
   },
   "file_extension": ".py",
   "mimetype": "text/x-python",
   "name": "python",
   "nbconvert_exporter": "python",
   "pygments_lexer": "ipython3",
   "version": "3.11.2"
  }
 },
 "nbformat": 4,
 "nbformat_minor": 5
}
